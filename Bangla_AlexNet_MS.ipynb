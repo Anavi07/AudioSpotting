{
  "nbformat": 4,
  "nbformat_minor": 0,
  "metadata": {
    "colab": {
      "provenance": [],
      "include_colab_link": true
    },
    "kernelspec": {
      "name": "python3",
      "display_name": "Python 3"
    },
    "language_info": {
      "name": "python"
    },
    "accelerator": "GPU"
  },
  "cells": [
    {
      "cell_type": "markdown",
      "metadata": {
        "id": "view-in-github",
        "colab_type": "text"
      },
      "source": [
        "<a href=\"https://colab.research.google.com/github/Anavi07/AudioSpotting/blob/main/Bangla_AlexNet_MS.ipynb\" target=\"_parent\"><img src=\"https://colab.research.google.com/assets/colab-badge.svg\" alt=\"Open In Colab\"/></a>"
      ]
    },
    {
      "cell_type": "code",
      "execution_count": 1,
      "metadata": {
        "colab": {
          "base_uri": "https://localhost:8080/"
        },
        "id": "rcHdBfeFdC47",
        "outputId": "de02a221-f33e-4206-bb6d-6d28f50f8be0"
      },
      "outputs": [
        {
          "output_type": "stream",
          "name": "stdout",
          "text": [
            "Mounted at /content/drive\n"
          ]
        }
      ],
      "source": [
        "import matplotlib.pyplot as plt\n",
        "from scipy import signal\n",
        "from scipy.io import wavfile\n",
        "import os\n",
        "import numpy as np\n",
        "import librosa\n",
        "import librosa.display\n",
        "import matplotlib.pyplot as plt\n",
        "import numpy as np\n",
        "import cv2\n",
        "import warnings\n",
        "warnings.filterwarnings(\"ignore\")\n",
        "\n",
        "from google.colab import drive\n",
        "drive.mount('/content/drive')"
      ]
    },
    {
      "cell_type": "code",
      "source": [
        "import tensorflow as tf\n",
        "device_name = tf.test.gpu_device_name()\n",
        "if device_name != '/device:GPU:0':\n",
        "  raise SystemError('GPU device not found')\n",
        "print('Found GPU at: {}'.format(device_name))"
      ],
      "metadata": {
        "colab": {
          "base_uri": "https://localhost:8080/"
        },
        "id": "_tZ1TxfO9Y56",
        "outputId": "4f00dc87-71c3-4094-f460-61e6ecce9f06"
      },
      "execution_count": 2,
      "outputs": [
        {
          "output_type": "stream",
          "name": "stdout",
          "text": [
            "Found GPU at: /device:GPU:0\n"
          ]
        }
      ]
    },
    {
      "cell_type": "code",
      "source": [
        "# Paths\n",
        "main_dir = '/content/Bangla-Number-Recognition-CNN'  # Path to FSDD\n",
        "files_path = '/content/drive/MyDrive/bangla'  # Save processed data\n",
        "\n",
        "if not os.path.exists(files_path):\n",
        "    os.makedirs(files_path)\n",
        "\n",
        "# Clone the dataset if not already cloned\n",
        "if not os.path.exists(main_dir):\n",
        "    !git clone https://github.com/ClockWorkKid/Bangla-Number-Recognition-CNN\n"
      ],
      "metadata": {
        "id": "bLDsYacZMs6q",
        "outputId": "cdfe3291-b343-4b8a-c6c9-3f311930a111",
        "colab": {
          "base_uri": "https://localhost:8080/"
        }
      },
      "execution_count": 3,
      "outputs": [
        {
          "output_type": "stream",
          "name": "stdout",
          "text": [
            "Cloning into 'Bangla-Number-Recognition-CNN'...\n",
            "remote: Enumerating objects: 2699, done.\u001b[K\n",
            "remote: Total 2699 (delta 0), reused 0 (delta 0), pack-reused 2699 (from 1)\u001b[K\n",
            "Receiving objects: 100% (2699/2699), 85.13 MiB | 16.81 MiB/s, done.\n",
            "Resolving deltas: 100% (60/60), done.\n",
            "Updating files: 100% (2657/2657), done.\n"
          ]
        }
      ]
    },
    {
      "cell_type": "code",
      "source": [
        "# PROCESSING\n",
        "# Feature extraction methods\n",
        "\n",
        "# def CalculateZeroCrossingRate(file_location):\n",
        "#     y, sr = librosa.load(file_location)\n",
        "#     zCross = librosa.feature.zero_crossing_rate(y=y)\n",
        "#     dim = (32, 32)\n",
        "#     resized = cv2.resize(zCross, dim, interpolation = cv2.INTER_AREA)\n",
        "#     return resized\n",
        "\n",
        "def CalculateMelSpectrogram(file_location):\n",
        "    y, sr = librosa.load(file_location)\n",
        "    melSpec = librosa.feature.melspectrogram(y=y, sr=sr)\n",
        "    melSpec_dB = librosa.power_to_db(melSpec)\n",
        "    dim = (32, 32)\n",
        "    resized = cv2.resize(melSpec_dB, dim, interpolation = cv2.INTER_AREA)\n",
        "    return resized\n",
        "\n",
        "\n",
        "def CalculateMFCC(file_location):\n",
        "    y, sr = librosa.load(file_location)\n",
        "    melSpec = librosa.feature.mfcc(y=y, sr=sr)\n",
        "    dim = (32, 32)\n",
        "    resized = cv2.resize(melSpec, dim, interpolation = cv2.INTER_AREA)\n",
        "    return resized\n",
        "\n"
      ],
      "metadata": {
        "id": "wSSuTUoKdZYD"
      },
      "execution_count": 4,
      "outputs": []
    },
    {
      "cell_type": "code",
      "source": [
        "cd /content"
      ],
      "metadata": {
        "colab": {
          "base_uri": "https://localhost:8080/"
        },
        "id": "7gQiVbsAfsgj",
        "outputId": "18486880-3c98-4fa2-c4a6-a4e70c3d6c22"
      },
      "execution_count": 5,
      "outputs": [
        {
          "output_type": "stream",
          "name": "stdout",
          "text": [
            "/content\n"
          ]
        }
      ]
    },
    {
      "cell_type": "code",
      "source": [
        "'''for i in range(10):\n",
        "  j = '/content/dataset'\n",
        "  print(os.listdir(j))\n",
        "  for k in os.listdir(j):\n",
        "    print(k)\n",
        "    if \".DS_\" in k:\n",
        "      continue\n",
        "\n",
        "    for t in os.listdir(j+\"/\"+k):\n",
        "      #print(\"path = \", os.listdir(j+\"/\"+k))\n",
        "      if \".DS_\" in k:\n",
        "        continue\n",
        "      print(t.split(\"WA\")[1].split(\".\")[0])\n",
        "      #print(t.split(\"D\")[1][0])\n",
        "      break\n",
        "    break\n",
        "  break '''"
      ],
      "metadata": {
        "colab": {
          "base_uri": "https://localhost:8080/",
          "height": 72
        },
        "id": "0BZCldknfBtv",
        "outputId": "8800eec0-5031-495c-9374-7f8108450497"
      },
      "execution_count": null,
      "outputs": [
        {
          "output_type": "execute_result",
          "data": {
            "text/plain": [
              "'for i in range(10):\\n  j = \\'/content/dataset\\'\\n  print(os.listdir(j))\\n  for k in os.listdir(j):\\n    print(k)\\n    if \".DS_\" in k:\\n      continue\\n\\n    for t in os.listdir(j+\"/\"+k):\\n      #print(\"path = \", os.listdir(j+\"/\"+k))\\n      if \".DS_\" in k:\\n        continue\\n      print(t.split(\"WA\")[1].split(\".\")[0])\\n      #print(t.split(\"D\")[1][0])\\n      break\\n    break\\n  break '"
            ],
            "application/vnd.google.colaboratory.intrinsic+json": {
              "type": "string"
            }
          },
          "metadata": {},
          "execution_count": 6
        }
      ]
    },
    {
      "cell_type": "code",
      "source": [
        "import os\n",
        "import numpy as np\n",
        "\n",
        "# Paths\n",
        "main_dir = '/content/Bangla-Number-Recognition-CNN'  # Path to the main dataset folder\n",
        "recordings_dir = os.path.join(main_dir, 'Dataset/Dataset_sorted')  # Path to the Dataset_sorted folder\n",
        "files_path = '/content/drive/MyDrive/bangla'  # Save processed data\n",
        "\n",
        "# Ensure output directory exists\n",
        "if not os.path.exists(files_path):\n",
        "    os.makedirs(files_path)\n",
        "\n",
        "# Processing\n",
        "x = []\n",
        "y = []\n",
        "\n",
        "# Loop through each label directory (0, 1, ..., 9, noise)\n",
        "for label_dir in os.listdir(recordings_dir):\n",
        "    label_path = os.path.join(recordings_dir, label_dir)\n",
        "\n",
        "    # Ensure it's a directory\n",
        "    if not os.path.isdir(label_path):\n",
        "        continue\n",
        "\n",
        "    # Process files within the label directory\n",
        "    for file_name in os.listdir(label_path):\n",
        "        if not file_name.endswith('.wav'):  # Skip non-wav files\n",
        "            continue\n",
        "\n",
        "        file_path = os.path.join(label_path, file_name)\n",
        "\n",
        "        try:\n",
        "            # Extract Mel Spectrogram features\n",
        "            x.append(CalculateMelSpectrogram(file_path))\n",
        "\n",
        "            # Use directory name as label (e.g., '0', '1', ..., 'noise')\n",
        "            label = int(label_dir) if label_dir.isdigit() else 10  # Assign 10 for 'noise'\n",
        "            y.append(label)\n",
        "        except Exception as e:\n",
        "            print(f\"Error processing {file_name}: {e}\")\n",
        "\n",
        "# Convert to NumPy arrays\n",
        "x = np.array(x)\n",
        "y = np.array(y)\n",
        "\n",
        "# Verify data\n",
        "if x.size == 0 or y.size == 0:\n",
        "    raise ValueError(\"No data was processed. Check dataset structure and feature extraction.\")\n",
        "\n",
        "# Save processed data\n",
        "np.save(os.path.join(files_path, \"X_melspectrogram.npy\"), x)\n",
        "np.save(os.path.join(files_path, \"Y_melspectrogram.npy\"), y)\n",
        "\n",
        "print(f\"Processing completed. Processed data saved in {files_path}.\")\n"
      ],
      "metadata": {
        "colab": {
          "base_uri": "https://localhost:8080/"
        },
        "id": "9DiWYMgm4OiN",
        "outputId": "e4beb734-8aa7-4997-eebc-be9a27449d10"
      },
      "execution_count": 6,
      "outputs": [
        {
          "output_type": "stream",
          "name": "stdout",
          "text": [
            "Processing completed. Processed data saved in /content/drive/MyDrive/bangla.\n"
          ]
        }
      ]
    },
    {
      "cell_type": "code",
      "source": [
        "#load files\n",
        "files_path = '/content/drive/MyDrive/bangla'  # Save processed data\n",
        "\n",
        "x_melspectrogram = np.load(files_path+\"/X_melspectrogram.npy\", allow_pickle=True)\n",
        "# x_zero_crossing_rate = np.load(files_path+\"/X_zero_crossing_rate.npy\", allow_pickle=True)\n",
        "#x_mfcc = np.load(files_path+\"/X_mfcc.npy\", allow_pickle=True)\n",
        "y_melspectrogram = np.load(files_path+\"/Y_melspectrogram.npy\", allow_pickle=True)\n",
        "# y_zero_crossing_rate = np.load(files_path+\"/y_zero_crossing_rate.npy\", allow_pickle=True)\n",
        "#y_mfcc = np.load(files_path+\"/Y_mfcc.npy\", allow_pickle=True)"
      ],
      "metadata": {
        "id": "MQi3OLjocbH3"
      },
      "execution_count": 7,
      "outputs": []
    },
    {
      "cell_type": "code",
      "source": [
        "# #Split data into train and test\n",
        "\n",
        "# from sklearn.model_selection import train_test_split\n",
        "# x = x_mfcc\n",
        "# y = y_mfcc\n",
        "\n",
        "# x_train, x_test, y_train, y_test = train_test_split(x, y, test_size=0.20, random_state=42)\n",
        "# np.save(files_path+\"/x_mfcc_train\",x_train)\n",
        "# np.save(files_path+\"/y_mfcc_train\",y_train)\n",
        "# np.save(files_path+\"/x_mfcc_test\",x_test)\n",
        "# np.save(files_path+\"/y_mfcc_test\",y_test)"
      ],
      "metadata": {
        "id": "mggTLnkMbQ9h"
      },
      "execution_count": null,
      "outputs": []
    },
    {
      "cell_type": "code",
      "source": [
        "from sklearn.model_selection import train_test_split\n",
        "x = x_melspectrogram\n",
        "y = y_melspectrogram\n",
        "\n",
        "x_train, x_test, y_train, y_test = train_test_split(x, y, test_size=0.20, random_state=42)\n",
        "np.save(files_path+\"/x_melspectrogram_train\",x_train)\n",
        "np.save(files_path+\"/y_melspectrogram_train\",y_train)\n",
        "np.save(files_path+\"/x_melspectrogram_test\",x_test)\n",
        "np.save(files_path+\"/y_melspectrogram_test\",y_test)"
      ],
      "metadata": {
        "id": "hIDdNB7PT38n"
      },
      "execution_count": 8,
      "outputs": []
    },
    {
      "cell_type": "code",
      "source": [
        "\n",
        "# from sklearn.model_selection import train_test_split\n",
        "# x = x_zero_crossing_rate\n",
        "# y = y_zero_crossing_rate\n",
        "\n",
        "# x_train, x_test, y_train, y_test = train_test_split(x, y, test_size=0.20, random_state=42)\n",
        "# np.save(files_path+\"/x_zero_crossing_rate_train\",x_train)\n",
        "# np.save(files_path+\"/y_zero_crossing_rate_train\",y_train)\n",
        "# np.save(files_path+\"/x_zero_crossing_rate_test\",x_test)\n",
        "# np.save(files_path+\"/y_zero_crossing_rate_test\",y_test)"
      ],
      "metadata": {
        "id": "Xay2hhdbT6Es"
      },
      "execution_count": null,
      "outputs": []
    },
    {
      "cell_type": "code",
      "source": [
        "import tensorflow as tf\n",
        "import numpy as np\n",
        "\n",
        "files_path = '/content/drive/MyDrive/bangla'\n",
        "\n",
        "features = ['melspectrogram', 'mfcc', 'zero_crossing_rate']\n",
        "\n",
        "x_train = np.load(files_path+\"/x_{}_train.npy\".format(features[0]), allow_pickle=True)\n",
        "y_train = np.load(files_path+\"/y_{}_train.npy\".format(features[0]), allow_pickle=True)\n",
        "\n",
        "x_test = np.load(files_path+\"/x_{}_test.npy\".format(features[0]),allow_pickle=True)\n",
        "y_test = np.load(files_path+\"/y_{}_test.npy\".format(features[0]),allow_pickle=True)"
      ],
      "metadata": {
        "id": "4sTIOC0DToyj"
      },
      "execution_count": 9,
      "outputs": []
    },
    {
      "cell_type": "code",
      "source": [],
      "metadata": {
        "id": "a-jmqade0XfB"
      },
      "execution_count": null,
      "outputs": []
    },
    {
      "cell_type": "code",
      "source": [
        "print(np.unique(y_melspectrogram))"
      ],
      "metadata": {
        "colab": {
          "base_uri": "https://localhost:8080/"
        },
        "id": "elOv-AAYmZo_",
        "outputId": "7c034df9-0e73-48fa-cdf8-a36f9cbb1a28"
      },
      "execution_count": 10,
      "outputs": [
        {
          "output_type": "stream",
          "name": "stdout",
          "text": [
            "[ 0  1  2  3  4  5  6  7  8  9 10]\n"
          ]
        }
      ]
    },
    {
      "cell_type": "code",
      "source": [
        "x_train =x_train.reshape((x_train.shape[0],32,32,1))\n",
        "x_test =x_test.reshape((x_test.shape[0],32,32,1))"
      ],
      "metadata": {
        "id": "HNPZQvHEeZVS"
      },
      "execution_count": 11,
      "outputs": []
    },
    {
      "cell_type": "code",
      "source": [
        "x_train = x_train.reshape(-1, 32, 32, 1)  # Reshape to match the input shape of the model\n",
        "x_test = x_test.reshape(-1, 32, 32, 1)    # Reshape for testing\n",
        "train_y = tf.keras.utils.to_categorical(y_train, num_classes=11)  # One-hot encode\n",
        "test_y = tf.keras.utils.to_categorical(y_test, num_classes=11)    # One-hot encode\n"
      ],
      "metadata": {
        "id": "0JbGx-WgVVPQ"
      },
      "execution_count": 12,
      "outputs": []
    },
    {
      "cell_type": "markdown",
      "source": [
        "## Train Model"
      ],
      "metadata": {
        "id": "2o-1LnghejML"
      }
    },
    {
      "cell_type": "code",
      "source": [
        "#AlexNet\n",
        "import tensorflow as tf\n",
        "from tensorflow.keras import layers, models\n",
        "\n",
        "# Define AlexNet model\n",
        "def GetAlexNet():\n",
        "    model = models.Sequential()\n",
        "\n",
        "    # Layer 1: Convolutional + MaxPooling\n",
        "    model.add(layers.Conv2D(96, (3, 3), strides=(1, 1), activation='relu', input_shape=(32, 32, 1), padding='same'))\n",
        "    model.add(layers.MaxPooling2D(pool_size=(2, 2), strides=(2, 2), padding='valid'))\n",
        "\n",
        "    # Layer 2: Convolutional + MaxPooling\n",
        "    model.add(layers.Conv2D(256, (3, 3), activation='relu', padding='same'))\n",
        "    model.add(layers.MaxPooling2D(pool_size=(2, 2), strides=(2, 2), padding='valid'))\n",
        "\n",
        "    # Layer 3: Convolutional\n",
        "    model.add(layers.Conv2D(384, (3, 3), activation='relu', padding='same'))\n",
        "\n",
        "    # Layer 4: Convolutional\n",
        "    model.add(layers.Conv2D(384, (3, 3), activation='relu', padding='same'))\n",
        "\n",
        "    # Layer 5: Convolutional + MaxPooling\n",
        "    model.add(layers.Conv2D(256, (3, 3), activation='relu', padding='same'))\n",
        "    model.add(layers.MaxPooling2D(pool_size=(2, 2), strides=(2, 2), padding='valid'))\n",
        "\n",
        "    # Flatten the output\n",
        "    model.add(layers.Flatten())\n",
        "\n",
        "    # Fully connected layers\n",
        "    model.add(layers.Dense(4096, activation='relu'))\n",
        "    model.add(layers.Dropout(0.5))\n",
        "    model.add(layers.Dense(4096, activation='relu'))\n",
        "    model.add(layers.Dropout(0.5))\n",
        "    model.add(layers.Dense(11, activation='softmax'))  # For 11 classes\n",
        "\n",
        "    return model\n",
        "\n",
        "# Preprocess data\n",
        "x_train = x_train.reshape(-1, 32, 32, 1)  # Reshape to match input shape\n",
        "x_test = x_test.reshape(-1, 32, 32, 1)    # Reshape for testing\n",
        "train_y = tf.keras.utils.to_categorical(y_train, num_classes=11)  # One-hot encode labels\n",
        "test_y = tf.keras.utils.to_categorical(y_test, num_classes=11)    # One-hot encode labels\n",
        "\n",
        "# Define model and compile\n",
        "alexnet_model = GetAlexNet()\n",
        "alexnet_model.compile(\n",
        "    loss=tf.keras.losses.CategoricalCrossentropy(),\n",
        "    metrics=[\"accuracy\"],\n",
        "    optimizer=tf.keras.optimizers.Adam(learning_rate=0.01)\n",
        ")\n",
        "\n",
        "# Define callback for saving the best model\n",
        "callbacks = tf.keras.callbacks.ModelCheckpoint(\n",
        "    filepath='/content/drive/MyDrive/auddsavedfiles/models/alexnet_model_.keras',\n",
        "    monitor='val_accuracy',\n",
        "    mode='max',\n",
        "    save_best_only=True,\n",
        "    verbose=1\n",
        ")\n",
        "\n",
        "# Train the model\n",
        "history = alexnet_model.fit(\n",
        "    x_train, train_y,\n",
        "    batch_size=64,\n",
        "    epochs=50,\n",
        "    verbose=1,\n",
        "    validation_split=0.1,\n",
        "    callbacks=[callbacks]\n",
        ")\n",
        "\n",
        "\n"
      ],
      "metadata": {
        "colab": {
          "base_uri": "https://localhost:8080/"
        },
        "id": "agKdv6t_S6Xe",
        "outputId": "7f7f9d8d-f029-433a-8da7-8aedfb076d54"
      },
      "execution_count": 14,
      "outputs": [
        {
          "output_type": "stream",
          "name": "stdout",
          "text": [
            "Epoch 1/50\n",
            "\u001b[1m28/28\u001b[0m \u001b[32m━━━━━━━━━━━━━━━━━━━━\u001b[0m\u001b[37m\u001b[0m \u001b[1m0s\u001b[0m 183ms/step - accuracy: 0.0806 - loss: 176203.1406\n",
            "Epoch 1: val_accuracy improved from -inf to 0.10152, saving model to /content/drive/MyDrive/auddsavedfiles/models/alexnet_model_.keras\n",
            "\u001b[1m28/28\u001b[0m \u001b[32m━━━━━━━━━━━━━━━━━━━━\u001b[0m\u001b[37m\u001b[0m \u001b[1m20s\u001b[0m 395ms/step - accuracy: 0.0807 - loss: 172238.2812 - val_accuracy: 0.1015 - val_loss: 21.3831\n",
            "Epoch 2/50\n",
            "\u001b[1m27/28\u001b[0m \u001b[32m━━━━━━━━━━━━━━━━━━━\u001b[0m\u001b[37m━\u001b[0m \u001b[1m0s\u001b[0m 31ms/step - accuracy: 0.1398 - loss: 2.6429\n",
            "Epoch 2: val_accuracy improved from 0.10152 to 0.11168, saving model to /content/drive/MyDrive/auddsavedfiles/models/alexnet_model_.keras\n",
            "\u001b[1m28/28\u001b[0m \u001b[32m━━━━━━━━━━━━━━━━━━━━\u001b[0m\u001b[37m\u001b[0m \u001b[1m7s\u001b[0m 163ms/step - accuracy: 0.1385 - loss: 2.6307 - val_accuracy: 0.1117 - val_loss: 2.3843\n",
            "Epoch 3/50\n",
            "\u001b[1m27/28\u001b[0m \u001b[32m━━━━━━━━━━━━━━━━━━━\u001b[0m\u001b[37m━\u001b[0m \u001b[1m0s\u001b[0m 30ms/step - accuracy: 0.1060 - loss: 2.4975\n",
            "Epoch 3: val_accuracy did not improve from 0.11168\n",
            "\u001b[1m28/28\u001b[0m \u001b[32m━━━━━━━━━━━━━━━━━━━━\u001b[0m\u001b[37m\u001b[0m \u001b[1m1s\u001b[0m 33ms/step - accuracy: 0.1061 - loss: 2.4929 - val_accuracy: 0.1066 - val_loss: 2.3940\n",
            "Epoch 4/50\n",
            "\u001b[1m27/28\u001b[0m \u001b[32m━━━━━━━━━━━━━━━━━━━\u001b[0m\u001b[37m━\u001b[0m \u001b[1m0s\u001b[0m 28ms/step - accuracy: 0.1091 - loss: 2.3976\n",
            "Epoch 4: val_accuracy did not improve from 0.11168\n",
            "\u001b[1m28/28\u001b[0m \u001b[32m━━━━━━━━━━━━━━━━━━━━\u001b[0m\u001b[37m\u001b[0m \u001b[1m1s\u001b[0m 29ms/step - accuracy: 0.1092 - loss: 2.3975 - val_accuracy: 0.1066 - val_loss: 2.3916\n",
            "Epoch 5/50\n",
            "\u001b[1m27/28\u001b[0m \u001b[32m━━━━━━━━━━━━━━━━━━━\u001b[0m\u001b[37m━\u001b[0m \u001b[1m0s\u001b[0m 28ms/step - accuracy: 0.1221 - loss: 2.3924\n",
            "Epoch 5: val_accuracy did not improve from 0.11168\n",
            "\u001b[1m28/28\u001b[0m \u001b[32m━━━━━━━━━━━━━━━━━━━━\u001b[0m\u001b[37m\u001b[0m \u001b[1m1s\u001b[0m 29ms/step - accuracy: 0.1218 - loss: 2.3924 - val_accuracy: 0.1066 - val_loss: 2.3927\n",
            "Epoch 6/50\n",
            "\u001b[1m27/28\u001b[0m \u001b[32m━━━━━━━━━━━━━━━━━━━\u001b[0m\u001b[37m━\u001b[0m \u001b[1m0s\u001b[0m 28ms/step - accuracy: 0.1181 - loss: 2.3925\n",
            "Epoch 6: val_accuracy did not improve from 0.11168\n",
            "\u001b[1m28/28\u001b[0m \u001b[32m━━━━━━━━━━━━━━━━━━━━\u001b[0m\u001b[37m\u001b[0m \u001b[1m1s\u001b[0m 31ms/step - accuracy: 0.1172 - loss: 2.3926 - val_accuracy: 0.1015 - val_loss: 2.3922\n",
            "Epoch 7/50\n",
            "\u001b[1m27/28\u001b[0m \u001b[32m━━━━━━━━━━━━━━━━━━━\u001b[0m\u001b[37m━\u001b[0m \u001b[1m0s\u001b[0m 28ms/step - accuracy: 0.1177 - loss: 2.3901\n",
            "Epoch 7: val_accuracy did not improve from 0.11168\n",
            "\u001b[1m28/28\u001b[0m \u001b[32m━━━━━━━━━━━━━━━━━━━━\u001b[0m\u001b[37m\u001b[0m \u001b[1m1s\u001b[0m 31ms/step - accuracy: 0.1174 - loss: 2.3901 - val_accuracy: 0.1066 - val_loss: 2.3939\n",
            "Epoch 8/50\n",
            "\u001b[1m27/28\u001b[0m \u001b[32m━━━━━━━━━━━━━━━━━━━\u001b[0m\u001b[37m━\u001b[0m \u001b[1m0s\u001b[0m 29ms/step - accuracy: 0.1113 - loss: 2.3948\n",
            "Epoch 8: val_accuracy did not improve from 0.11168\n",
            "\u001b[1m28/28\u001b[0m \u001b[32m━━━━━━━━━━━━━━━━━━━━\u001b[0m\u001b[37m\u001b[0m \u001b[1m1s\u001b[0m 31ms/step - accuracy: 0.1114 - loss: 2.3945 - val_accuracy: 0.1066 - val_loss: 2.3924\n",
            "Epoch 9/50\n",
            "\u001b[1m27/28\u001b[0m \u001b[32m━━━━━━━━━━━━━━━━━━━\u001b[0m\u001b[37m━\u001b[0m \u001b[1m0s\u001b[0m 29ms/step - accuracy: 0.1228 - loss: 2.3888\n",
            "Epoch 9: val_accuracy did not improve from 0.11168\n",
            "\u001b[1m28/28\u001b[0m \u001b[32m━━━━━━━━━━━━━━━━━━━━\u001b[0m\u001b[37m\u001b[0m \u001b[1m1s\u001b[0m 33ms/step - accuracy: 0.1221 - loss: 2.3890 - val_accuracy: 0.1015 - val_loss: 2.3925\n",
            "Epoch 10/50\n",
            "\u001b[1m28/28\u001b[0m \u001b[32m━━━━━━━━━━━━━━━━━━━━\u001b[0m\u001b[37m\u001b[0m \u001b[1m0s\u001b[0m 33ms/step - accuracy: 0.1088 - loss: 2.3950\n",
            "Epoch 10: val_accuracy did not improve from 0.11168\n",
            "\u001b[1m28/28\u001b[0m \u001b[32m━━━━━━━━━━━━━━━━━━━━\u001b[0m\u001b[37m\u001b[0m \u001b[1m1s\u001b[0m 37ms/step - accuracy: 0.1089 - loss: 2.3949 - val_accuracy: 0.1066 - val_loss: 2.3931\n",
            "Epoch 11/50\n",
            "\u001b[1m27/28\u001b[0m \u001b[32m━━━━━━━━━━━━━━━━━━━\u001b[0m\u001b[37m━\u001b[0m \u001b[1m0s\u001b[0m 33ms/step - accuracy: 0.0908 - loss: 2.3941\n",
            "Epoch 11: val_accuracy did not improve from 0.11168\n",
            "\u001b[1m28/28\u001b[0m \u001b[32m━━━━━━━━━━━━━━━━━━━━\u001b[0m\u001b[37m\u001b[0m \u001b[1m1s\u001b[0m 38ms/step - accuracy: 0.0921 - loss: 2.3939 - val_accuracy: 0.1066 - val_loss: 2.3936\n",
            "Epoch 12/50\n",
            "\u001b[1m27/28\u001b[0m \u001b[32m━━━━━━━━━━━━━━━━━━━\u001b[0m\u001b[37m━\u001b[0m \u001b[1m0s\u001b[0m 30ms/step - accuracy: 0.1222 - loss: 2.3904\n",
            "Epoch 12: val_accuracy did not improve from 0.11168\n",
            "\u001b[1m28/28\u001b[0m \u001b[32m━━━━━━━━━━━━━━━━━━━━\u001b[0m\u001b[37m\u001b[0m \u001b[1m1s\u001b[0m 32ms/step - accuracy: 0.1220 - loss: 2.3905 - val_accuracy: 0.1066 - val_loss: 2.3924\n",
            "Epoch 13/50\n",
            "\u001b[1m27/28\u001b[0m \u001b[32m━━━━━━━━━━━━━━━━━━━\u001b[0m\u001b[37m━\u001b[0m \u001b[1m0s\u001b[0m 29ms/step - accuracy: 0.1034 - loss: 2.3905\n",
            "Epoch 13: val_accuracy did not improve from 0.11168\n",
            "\u001b[1m28/28\u001b[0m \u001b[32m━━━━━━━━━━━━━━━━━━━━\u001b[0m\u001b[37m\u001b[0m \u001b[1m1s\u001b[0m 31ms/step - accuracy: 0.1037 - loss: 2.3905 - val_accuracy: 0.1066 - val_loss: 2.3925\n",
            "Epoch 14/50\n",
            "\u001b[1m27/28\u001b[0m \u001b[32m━━━━━━━━━━━━━━━━━━━\u001b[0m\u001b[37m━\u001b[0m \u001b[1m0s\u001b[0m 29ms/step - accuracy: 0.1344 - loss: 2.3854\n",
            "Epoch 14: val_accuracy did not improve from 0.11168\n",
            "\u001b[1m28/28\u001b[0m \u001b[32m━━━━━━━━━━━━━━━━━━━━\u001b[0m\u001b[37m\u001b[0m \u001b[1m1s\u001b[0m 30ms/step - accuracy: 0.1332 - loss: 2.3858 - val_accuracy: 0.1066 - val_loss: 2.3931\n",
            "Epoch 15/50\n",
            "\u001b[1m27/28\u001b[0m \u001b[32m━━━━━━━━━━━━━━━━━━━\u001b[0m\u001b[37m━\u001b[0m \u001b[1m0s\u001b[0m 29ms/step - accuracy: 0.1309 - loss: 2.3874\n",
            "Epoch 15: val_accuracy did not improve from 0.11168\n",
            "\u001b[1m28/28\u001b[0m \u001b[32m━━━━━━━━━━━━━━━━━━━━\u001b[0m\u001b[37m\u001b[0m \u001b[1m1s\u001b[0m 31ms/step - accuracy: 0.1301 - loss: 2.3877 - val_accuracy: 0.1066 - val_loss: 2.3929\n",
            "Epoch 16/50\n",
            "\u001b[1m27/28\u001b[0m \u001b[32m━━━━━━━━━━━━━━━━━━━\u001b[0m\u001b[37m━\u001b[0m \u001b[1m0s\u001b[0m 28ms/step - accuracy: 0.1003 - loss: 2.3952\n",
            "Epoch 16: val_accuracy did not improve from 0.11168\n",
            "\u001b[1m28/28\u001b[0m \u001b[32m━━━━━━━━━━━━━━━━━━━━\u001b[0m\u001b[37m\u001b[0m \u001b[1m1s\u001b[0m 29ms/step - accuracy: 0.1009 - loss: 2.3949 - val_accuracy: 0.1066 - val_loss: 2.3916\n",
            "Epoch 17/50\n",
            "\u001b[1m27/28\u001b[0m \u001b[32m━━━━━━━━━━━━━━━━━━━\u001b[0m\u001b[37m━\u001b[0m \u001b[1m0s\u001b[0m 28ms/step - accuracy: 0.1118 - loss: 2.3928\n",
            "Epoch 17: val_accuracy did not improve from 0.11168\n",
            "\u001b[1m28/28\u001b[0m \u001b[32m━━━━━━━━━━━━━━━━━━━━\u001b[0m\u001b[37m\u001b[0m \u001b[1m1s\u001b[0m 31ms/step - accuracy: 0.1118 - loss: 2.3926 - val_accuracy: 0.1066 - val_loss: 2.3936\n",
            "Epoch 18/50\n",
            "\u001b[1m27/28\u001b[0m \u001b[32m━━━━━━━━━━━━━━━━━━━\u001b[0m\u001b[37m━\u001b[0m \u001b[1m0s\u001b[0m 29ms/step - accuracy: 0.1236 - loss: 2.3917\n",
            "Epoch 18: val_accuracy did not improve from 0.11168\n",
            "\u001b[1m28/28\u001b[0m \u001b[32m━━━━━━━━━━━━━━━━━━━━\u001b[0m\u001b[37m\u001b[0m \u001b[1m1s\u001b[0m 30ms/step - accuracy: 0.1232 - loss: 2.3917 - val_accuracy: 0.1066 - val_loss: 2.3936\n",
            "Epoch 19/50\n",
            "\u001b[1m27/28\u001b[0m \u001b[32m━━━━━━━━━━━━━━━━━━━\u001b[0m\u001b[37m━\u001b[0m \u001b[1m0s\u001b[0m 29ms/step - accuracy: 0.1117 - loss: 2.3940\n",
            "Epoch 19: val_accuracy did not improve from 0.11168\n",
            "\u001b[1m28/28\u001b[0m \u001b[32m━━━━━━━━━━━━━━━━━━━━\u001b[0m\u001b[37m\u001b[0m \u001b[1m1s\u001b[0m 32ms/step - accuracy: 0.1118 - loss: 2.3938 - val_accuracy: 0.1066 - val_loss: 2.3921\n",
            "Epoch 20/50\n",
            "\u001b[1m27/28\u001b[0m \u001b[32m━━━━━━━━━━━━━━━━━━━\u001b[0m\u001b[37m━\u001b[0m \u001b[1m0s\u001b[0m 29ms/step - accuracy: 0.1098 - loss: 2.3934\n",
            "Epoch 20: val_accuracy did not improve from 0.11168\n",
            "\u001b[1m28/28\u001b[0m \u001b[32m━━━━━━━━━━━━━━━━━━━━\u001b[0m\u001b[37m\u001b[0m \u001b[1m1s\u001b[0m 30ms/step - accuracy: 0.1102 - loss: 2.3933 - val_accuracy: 0.1066 - val_loss: 2.3930\n",
            "Epoch 21/50\n",
            "\u001b[1m27/28\u001b[0m \u001b[32m━━━━━━━━━━━━━━━━━━━\u001b[0m\u001b[37m━\u001b[0m \u001b[1m0s\u001b[0m 29ms/step - accuracy: 0.1198 - loss: 2.3881\n",
            "Epoch 21: val_accuracy did not improve from 0.11168\n",
            "\u001b[1m28/28\u001b[0m \u001b[32m━━━━━━━━━━━━━━━━━━━━\u001b[0m\u001b[37m\u001b[0m \u001b[1m1s\u001b[0m 33ms/step - accuracy: 0.1196 - loss: 2.3883 - val_accuracy: 0.1066 - val_loss: 2.3944\n",
            "Epoch 22/50\n",
            "\u001b[1m27/28\u001b[0m \u001b[32m━━━━━━━━━━━━━━━━━━━\u001b[0m\u001b[37m━\u001b[0m \u001b[1m0s\u001b[0m 30ms/step - accuracy: 0.1159 - loss: 2.3931\n",
            "Epoch 22: val_accuracy did not improve from 0.11168\n",
            "\u001b[1m28/28\u001b[0m \u001b[32m━━━━━━━━━━━━━━━━━━━━\u001b[0m\u001b[37m\u001b[0m \u001b[1m1s\u001b[0m 33ms/step - accuracy: 0.1160 - loss: 2.3929 - val_accuracy: 0.1066 - val_loss: 2.3925\n",
            "Epoch 23/50\n",
            "\u001b[1m27/28\u001b[0m \u001b[32m━━━━━━━━━━━━━━━━━━━\u001b[0m\u001b[37m━\u001b[0m \u001b[1m0s\u001b[0m 30ms/step - accuracy: 0.1159 - loss: 2.3916\n",
            "Epoch 23: val_accuracy did not improve from 0.11168\n",
            "\u001b[1m28/28\u001b[0m \u001b[32m━━━━━━━━━━━━━━━━━━━━\u001b[0m\u001b[37m\u001b[0m \u001b[1m1s\u001b[0m 32ms/step - accuracy: 0.1159 - loss: 2.3915 - val_accuracy: 0.1066 - val_loss: 2.3929\n",
            "Epoch 24/50\n",
            "\u001b[1m27/28\u001b[0m \u001b[32m━━━━━━━━━━━━━━━━━━━\u001b[0m\u001b[37m━\u001b[0m \u001b[1m0s\u001b[0m 30ms/step - accuracy: 0.1146 - loss: 2.3902\n",
            "Epoch 24: val_accuracy did not improve from 0.11168\n",
            "\u001b[1m28/28\u001b[0m \u001b[32m━━━━━━━━━━━━━━━━━━━━\u001b[0m\u001b[37m\u001b[0m \u001b[1m1s\u001b[0m 33ms/step - accuracy: 0.1147 - loss: 2.3902 - val_accuracy: 0.1066 - val_loss: 2.3939\n",
            "Epoch 25/50\n",
            "\u001b[1m27/28\u001b[0m \u001b[32m━━━━━━━━━━━━━━━━━━━\u001b[0m\u001b[37m━\u001b[0m \u001b[1m0s\u001b[0m 29ms/step - accuracy: 0.1049 - loss: 2.3976\n",
            "Epoch 25: val_accuracy did not improve from 0.11168\n",
            "\u001b[1m28/28\u001b[0m \u001b[32m━━━━━━━━━━━━━━━━━━━━\u001b[0m\u001b[37m\u001b[0m \u001b[1m1s\u001b[0m 32ms/step - accuracy: 0.1057 - loss: 2.3971 - val_accuracy: 0.1066 - val_loss: 2.3926\n",
            "Epoch 26/50\n",
            "\u001b[1m27/28\u001b[0m \u001b[32m━━━━━━━━━━━━━━━━━━━\u001b[0m\u001b[37m━\u001b[0m \u001b[1m0s\u001b[0m 29ms/step - accuracy: 0.1348 - loss: 2.3886\n",
            "Epoch 26: val_accuracy did not improve from 0.11168\n",
            "\u001b[1m28/28\u001b[0m \u001b[32m━━━━━━━━━━━━━━━━━━━━\u001b[0m\u001b[37m\u001b[0m \u001b[1m1s\u001b[0m 31ms/step - accuracy: 0.1335 - loss: 2.3888 - val_accuracy: 0.1066 - val_loss: 2.3927\n",
            "Epoch 27/50\n",
            "\u001b[1m27/28\u001b[0m \u001b[32m━━━━━━━━━━━━━━━━━━━\u001b[0m\u001b[37m━\u001b[0m \u001b[1m0s\u001b[0m 29ms/step - accuracy: 0.1099 - loss: 2.3917\n",
            "Epoch 27: val_accuracy did not improve from 0.11168\n",
            "\u001b[1m28/28\u001b[0m \u001b[32m━━━━━━━━━━━━━━━━━━━━\u001b[0m\u001b[37m\u001b[0m \u001b[1m1s\u001b[0m 30ms/step - accuracy: 0.1097 - loss: 2.3917 - val_accuracy: 0.1015 - val_loss: 2.3932\n",
            "Epoch 28/50\n",
            "\u001b[1m27/28\u001b[0m \u001b[32m━━━━━━━━━━━━━━━━━━━\u001b[0m\u001b[37m━\u001b[0m \u001b[1m0s\u001b[0m 29ms/step - accuracy: 0.1145 - loss: 2.3929\n",
            "Epoch 28: val_accuracy did not improve from 0.11168\n",
            "\u001b[1m28/28\u001b[0m \u001b[32m━━━━━━━━━━━━━━━━━━━━\u001b[0m\u001b[37m\u001b[0m \u001b[1m1s\u001b[0m 30ms/step - accuracy: 0.1144 - loss: 2.3928 - val_accuracy: 0.1015 - val_loss: 2.3927\n",
            "Epoch 29/50\n",
            "\u001b[1m27/28\u001b[0m \u001b[32m━━━━━━━━━━━━━━━━━━━\u001b[0m\u001b[37m━\u001b[0m \u001b[1m0s\u001b[0m 29ms/step - accuracy: 0.1021 - loss: 2.3881\n",
            "Epoch 29: val_accuracy did not improve from 0.11168\n",
            "\u001b[1m28/28\u001b[0m \u001b[32m━━━━━━━━━━━━━━━━━━━━\u001b[0m\u001b[37m\u001b[0m \u001b[1m1s\u001b[0m 31ms/step - accuracy: 0.1022 - loss: 2.3883 - val_accuracy: 0.1066 - val_loss: 2.3929\n",
            "Epoch 30/50\n",
            "\u001b[1m27/28\u001b[0m \u001b[32m━━━━━━━━━━━━━━━━━━━\u001b[0m\u001b[37m━\u001b[0m \u001b[1m0s\u001b[0m 29ms/step - accuracy: 0.1125 - loss: 2.3910\n",
            "Epoch 30: val_accuracy did not improve from 0.11168\n",
            "\u001b[1m28/28\u001b[0m \u001b[32m━━━━━━━━━━━━━━━━━━━━\u001b[0m\u001b[37m\u001b[0m \u001b[1m1s\u001b[0m 32ms/step - accuracy: 0.1127 - loss: 2.3910 - val_accuracy: 0.1066 - val_loss: 2.3944\n",
            "Epoch 31/50\n",
            "\u001b[1m27/28\u001b[0m \u001b[32m━━━━━━━━━━━━━━━━━━━\u001b[0m\u001b[37m━\u001b[0m \u001b[1m0s\u001b[0m 34ms/step - accuracy: 0.1231 - loss: 2.3865\n",
            "Epoch 31: val_accuracy did not improve from 0.11168\n",
            "\u001b[1m28/28\u001b[0m \u001b[32m━━━━━━━━━━━━━━━━━━━━\u001b[0m\u001b[37m\u001b[0m \u001b[1m1s\u001b[0m 36ms/step - accuracy: 0.1226 - loss: 2.3868 - val_accuracy: 0.1066 - val_loss: 2.3947\n",
            "Epoch 32/50\n",
            "\u001b[1m27/28\u001b[0m \u001b[32m━━━━━━━━━━━━━━━━━━━\u001b[0m\u001b[37m━\u001b[0m \u001b[1m0s\u001b[0m 28ms/step - accuracy: 0.1145 - loss: 2.3922\n",
            "Epoch 32: val_accuracy did not improve from 0.11168\n",
            "\u001b[1m28/28\u001b[0m \u001b[32m━━━━━━━━━━━━━━━━━━━━\u001b[0m\u001b[37m\u001b[0m \u001b[1m1s\u001b[0m 30ms/step - accuracy: 0.1146 - loss: 2.3921 - val_accuracy: 0.1066 - val_loss: 2.3923\n",
            "Epoch 33/50\n",
            "\u001b[1m27/28\u001b[0m \u001b[32m━━━━━━━━━━━━━━━━━━━\u001b[0m\u001b[37m━\u001b[0m \u001b[1m0s\u001b[0m 29ms/step - accuracy: 0.1316 - loss: 2.3871\n",
            "Epoch 33: val_accuracy did not improve from 0.11168\n",
            "\u001b[1m28/28\u001b[0m \u001b[32m━━━━━━━━━━━━━━━━━━━━\u001b[0m\u001b[37m\u001b[0m \u001b[1m1s\u001b[0m 30ms/step - accuracy: 0.1305 - loss: 2.3874 - val_accuracy: 0.1066 - val_loss: 2.3927\n",
            "Epoch 34/50\n",
            "\u001b[1m27/28\u001b[0m \u001b[32m━━━━━━━━━━━━━━━━━━━\u001b[0m\u001b[37m━\u001b[0m \u001b[1m0s\u001b[0m 29ms/step - accuracy: 0.1121 - loss: 2.3904\n",
            "Epoch 34: val_accuracy did not improve from 0.11168\n",
            "\u001b[1m28/28\u001b[0m \u001b[32m━━━━━━━━━━━━━━━━━━━━\u001b[0m\u001b[37m\u001b[0m \u001b[1m1s\u001b[0m 32ms/step - accuracy: 0.1121 - loss: 2.3904 - val_accuracy: 0.1066 - val_loss: 2.3932\n",
            "Epoch 35/50\n",
            "\u001b[1m27/28\u001b[0m \u001b[32m━━━━━━━━━━━━━━━━━━━\u001b[0m\u001b[37m━\u001b[0m \u001b[1m0s\u001b[0m 29ms/step - accuracy: 0.1230 - loss: 2.3852\n",
            "Epoch 35: val_accuracy did not improve from 0.11168\n",
            "\u001b[1m28/28\u001b[0m \u001b[32m━━━━━━━━━━━━━━━━━━━━\u001b[0m\u001b[37m\u001b[0m \u001b[1m1s\u001b[0m 33ms/step - accuracy: 0.1226 - loss: 2.3856 - val_accuracy: 0.1066 - val_loss: 2.3926\n",
            "Epoch 36/50\n",
            "\u001b[1m27/28\u001b[0m \u001b[32m━━━━━━━━━━━━━━━━━━━\u001b[0m\u001b[37m━\u001b[0m \u001b[1m0s\u001b[0m 30ms/step - accuracy: 0.0927 - loss: 2.3969\n",
            "Epoch 36: val_accuracy did not improve from 0.11168\n",
            "\u001b[1m28/28\u001b[0m \u001b[32m━━━━━━━━━━━━━━━━━━━━\u001b[0m\u001b[37m\u001b[0m \u001b[1m1s\u001b[0m 33ms/step - accuracy: 0.0936 - loss: 2.3965 - val_accuracy: 0.1066 - val_loss: 2.3928\n",
            "Epoch 37/50\n",
            "\u001b[1m27/28\u001b[0m \u001b[32m━━━━━━━━━━━━━━━━━━━\u001b[0m\u001b[37m━\u001b[0m \u001b[1m0s\u001b[0m 29ms/step - accuracy: 0.1170 - loss: 2.3911\n",
            "Epoch 37: val_accuracy did not improve from 0.11168\n",
            "\u001b[1m28/28\u001b[0m \u001b[32m━━━━━━━━━━━━━━━━━━━━\u001b[0m\u001b[37m\u001b[0m \u001b[1m1s\u001b[0m 31ms/step - accuracy: 0.1170 - loss: 2.3911 - val_accuracy: 0.1066 - val_loss: 2.3945\n",
            "Epoch 38/50\n",
            "\u001b[1m27/28\u001b[0m \u001b[32m━━━━━━━━━━━━━━━━━━━\u001b[0m\u001b[37m━\u001b[0m \u001b[1m0s\u001b[0m 30ms/step - accuracy: 0.1127 - loss: 2.3924\n",
            "Epoch 38: val_accuracy did not improve from 0.11168\n",
            "\u001b[1m28/28\u001b[0m \u001b[32m━━━━━━━━━━━━━━━━━━━━\u001b[0m\u001b[37m\u001b[0m \u001b[1m1s\u001b[0m 34ms/step - accuracy: 0.1129 - loss: 2.3923 - val_accuracy: 0.1066 - val_loss: 2.3924\n",
            "Epoch 39/50\n",
            "\u001b[1m27/28\u001b[0m \u001b[32m━━━━━━━━━━━━━━━━━━━\u001b[0m\u001b[37m━\u001b[0m \u001b[1m0s\u001b[0m 28ms/step - accuracy: 0.1177 - loss: 2.3879\n",
            "Epoch 39: val_accuracy did not improve from 0.11168\n",
            "\u001b[1m28/28\u001b[0m \u001b[32m━━━━━━━━━━━━━━━━━━━━\u001b[0m\u001b[37m\u001b[0m \u001b[1m1s\u001b[0m 29ms/step - accuracy: 0.1176 - loss: 2.3881 - val_accuracy: 0.1066 - val_loss: 2.3927\n",
            "Epoch 40/50\n",
            "\u001b[1m27/28\u001b[0m \u001b[32m━━━━━━━━━━━━━━━━━━━\u001b[0m\u001b[37m━\u001b[0m \u001b[1m0s\u001b[0m 28ms/step - accuracy: 0.1264 - loss: 2.3823\n",
            "Epoch 40: val_accuracy did not improve from 0.11168\n",
            "\u001b[1m28/28\u001b[0m \u001b[32m━━━━━━━━━━━━━━━━━━━━\u001b[0m\u001b[37m\u001b[0m \u001b[1m1s\u001b[0m 29ms/step - accuracy: 0.1257 - loss: 2.3829 - val_accuracy: 0.1066 - val_loss: 2.3938\n",
            "Epoch 41/50\n",
            "\u001b[1m27/28\u001b[0m \u001b[32m━━━━━━━━━━━━━━━━━━━\u001b[0m\u001b[37m━\u001b[0m \u001b[1m0s\u001b[0m 28ms/step - accuracy: 0.1198 - loss: 2.3878\n",
            "Epoch 41: val_accuracy did not improve from 0.11168\n",
            "\u001b[1m28/28\u001b[0m \u001b[32m━━━━━━━━━━━━━━━━━━━━\u001b[0m\u001b[37m\u001b[0m \u001b[1m1s\u001b[0m 30ms/step - accuracy: 0.1196 - loss: 2.3880 - val_accuracy: 0.1066 - val_loss: 2.3929\n",
            "Epoch 42/50\n",
            "\u001b[1m27/28\u001b[0m \u001b[32m━━━━━━━━━━━━━━━━━━━\u001b[0m\u001b[37m━\u001b[0m \u001b[1m0s\u001b[0m 28ms/step - accuracy: 0.0993 - loss: 2.3914\n",
            "Epoch 42: val_accuracy did not improve from 0.11168\n",
            "\u001b[1m28/28\u001b[0m \u001b[32m━━━━━━━━━━━━━━━━━━━━\u001b[0m\u001b[37m\u001b[0m \u001b[1m1s\u001b[0m 30ms/step - accuracy: 0.1000 - loss: 2.3913 - val_accuracy: 0.1066 - val_loss: 2.3929\n",
            "Epoch 43/50\n",
            "\u001b[1m27/28\u001b[0m \u001b[32m━━━━━━━━━━━━━━━━━━━\u001b[0m\u001b[37m━\u001b[0m \u001b[1m0s\u001b[0m 28ms/step - accuracy: 0.1190 - loss: 2.3953\n",
            "Epoch 43: val_accuracy did not improve from 0.11168\n",
            "\u001b[1m28/28\u001b[0m \u001b[32m━━━━━━━━━━━━━━━━━━━━\u001b[0m\u001b[37m\u001b[0m \u001b[1m1s\u001b[0m 29ms/step - accuracy: 0.1189 - loss: 2.3950 - val_accuracy: 0.1066 - val_loss: 2.3931\n",
            "Epoch 44/50\n",
            "\u001b[1m27/28\u001b[0m \u001b[32m━━━━━━━━━━━━━━━━━━━\u001b[0m\u001b[37m━\u001b[0m \u001b[1m0s\u001b[0m 28ms/step - accuracy: 0.1076 - loss: 2.3924\n",
            "Epoch 44: val_accuracy did not improve from 0.11168\n",
            "\u001b[1m28/28\u001b[0m \u001b[32m━━━━━━━━━━━━━━━━━━━━\u001b[0m\u001b[37m\u001b[0m \u001b[1m1s\u001b[0m 31ms/step - accuracy: 0.1082 - loss: 2.3923 - val_accuracy: 0.1066 - val_loss: 2.3931\n",
            "Epoch 45/50\n",
            "\u001b[1m27/28\u001b[0m \u001b[32m━━━━━━━━━━━━━━━━━━━\u001b[0m\u001b[37m━\u001b[0m \u001b[1m0s\u001b[0m 28ms/step - accuracy: 0.1054 - loss: 2.3910\n",
            "Epoch 45: val_accuracy did not improve from 0.11168\n",
            "\u001b[1m28/28\u001b[0m \u001b[32m━━━━━━━━━━━━━━━━━━━━\u001b[0m\u001b[37m\u001b[0m \u001b[1m1s\u001b[0m 31ms/step - accuracy: 0.1062 - loss: 2.3909 - val_accuracy: 0.1066 - val_loss: 2.3927\n",
            "Epoch 46/50\n",
            "\u001b[1m27/28\u001b[0m \u001b[32m━━━━━━━━━━━━━━━━━━━\u001b[0m\u001b[37m━\u001b[0m \u001b[1m0s\u001b[0m 28ms/step - accuracy: 0.1198 - loss: 2.3920\n",
            "Epoch 46: val_accuracy did not improve from 0.11168\n",
            "\u001b[1m28/28\u001b[0m \u001b[32m━━━━━━━━━━━━━━━━━━━━\u001b[0m\u001b[37m\u001b[0m \u001b[1m1s\u001b[0m 30ms/step - accuracy: 0.1196 - loss: 2.3919 - val_accuracy: 0.1066 - val_loss: 2.3928\n",
            "Epoch 47/50\n",
            "\u001b[1m27/28\u001b[0m \u001b[32m━━━━━━━━━━━━━━━━━━━\u001b[0m\u001b[37m━\u001b[0m \u001b[1m0s\u001b[0m 28ms/step - accuracy: 0.1320 - loss: 2.3866\n",
            "Epoch 47: val_accuracy did not improve from 0.11168\n",
            "\u001b[1m28/28\u001b[0m \u001b[32m━━━━━━━━━━━━━━━━━━━━\u001b[0m\u001b[37m\u001b[0m \u001b[1m1s\u001b[0m 29ms/step - accuracy: 0.1309 - loss: 2.3869 - val_accuracy: 0.1066 - val_loss: 2.3935\n",
            "Epoch 48/50\n",
            "\u001b[1m27/28\u001b[0m \u001b[32m━━━━━━━━━━━━━━━━━━━\u001b[0m\u001b[37m━\u001b[0m \u001b[1m0s\u001b[0m 29ms/step - accuracy: 0.1185 - loss: 2.3909\n",
            "Epoch 48: val_accuracy did not improve from 0.11168\n",
            "\u001b[1m28/28\u001b[0m \u001b[32m━━━━━━━━━━━━━━━━━━━━\u001b[0m\u001b[37m\u001b[0m \u001b[1m1s\u001b[0m 31ms/step - accuracy: 0.1184 - loss: 2.3908 - val_accuracy: 0.1066 - val_loss: 2.3923\n",
            "Epoch 49/50\n",
            "\u001b[1m27/28\u001b[0m \u001b[32m━━━━━━━━━━━━━━━━━━━\u001b[0m\u001b[37m━\u001b[0m \u001b[1m0s\u001b[0m 29ms/step - accuracy: 0.1182 - loss: 2.3878\n",
            "Epoch 49: val_accuracy did not improve from 0.11168\n",
            "\u001b[1m28/28\u001b[0m \u001b[32m━━━━━━━━━━━━━━━━━━━━\u001b[0m\u001b[37m\u001b[0m \u001b[1m1s\u001b[0m 31ms/step - accuracy: 0.1181 - loss: 2.3880 - val_accuracy: 0.1066 - val_loss: 2.3931\n",
            "Epoch 50/50\n",
            "\u001b[1m27/28\u001b[0m \u001b[32m━━━━━━━━━━━━━━━━━━━\u001b[0m\u001b[37m━\u001b[0m \u001b[1m0s\u001b[0m 29ms/step - accuracy: 0.1251 - loss: 2.3877\n",
            "Epoch 50: val_accuracy did not improve from 0.11168\n",
            "\u001b[1m28/28\u001b[0m \u001b[32m━━━━━━━━━━━━━━━━━━━━\u001b[0m\u001b[37m\u001b[0m \u001b[1m1s\u001b[0m 33ms/step - accuracy: 0.1245 - loss: 2.3879 - val_accuracy: 0.1066 - val_loss: 2.3928\n"
          ]
        }
      ]
    },
    {
      "cell_type": "code",
      "source": [
        "# Evaluate the model\n",
        "alexnet_model = tf.keras.models.load_model('/content/drive/MyDrive/auddsavedfiles/models/alexnet_model_.keras')\n",
        "print(\"Test Accuracy is \", alexnet_model.evaluate(x_test, test_y)[1])"
      ],
      "metadata": {
        "id": "oVAuB_6mV8ZP",
        "outputId": "e55a4b06-b3e7-42e8-f0ec-200f300cc977",
        "colab": {
          "base_uri": "https://localhost:8080/"
        }
      },
      "execution_count": 15,
      "outputs": [
        {
          "output_type": "stream",
          "name": "stdout",
          "text": [
            "\u001b[1m16/16\u001b[0m \u001b[32m━━━━━━━━━━━━━━━━━━━━\u001b[0m\u001b[37m\u001b[0m \u001b[1m3s\u001b[0m 75ms/step - accuracy: 0.1024 - loss: 2.3840\n",
            "Test Accuracy is  0.12219959497451782\n"
          ]
        }
      ]
    }
  ]
}