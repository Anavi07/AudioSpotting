{
  "nbformat": 4,
  "nbformat_minor": 0,
  "metadata": {
    "colab": {
      "provenance": [],
      "include_colab_link": true
    },
    "kernelspec": {
      "name": "python3",
      "display_name": "Python 3"
    },
    "language_info": {
      "name": "python"
    },
    "accelerator": "GPU"
  },
  "cells": [
    {
      "cell_type": "markdown",
      "metadata": {
        "id": "view-in-github",
        "colab_type": "text"
      },
      "source": [
        "<a href=\"https://colab.research.google.com/github/Anavi07/AudioSpotting/blob/main/Bangla_GoogLeNet_MS.ipynb\" target=\"_parent\"><img src=\"https://colab.research.google.com/assets/colab-badge.svg\" alt=\"Open In Colab\"/></a>"
      ]
    },
    {
      "cell_type": "code",
      "execution_count": 2,
      "metadata": {
        "colab": {
          "base_uri": "https://localhost:8080/"
        },
        "id": "rcHdBfeFdC47",
        "outputId": "beb45102-cd1a-4255-d792-7d04196c9cbb"
      },
      "outputs": [
        {
          "output_type": "stream",
          "name": "stdout",
          "text": [
            "Mounted at /content/drive\n"
          ]
        }
      ],
      "source": [
        "import matplotlib.pyplot as plt\n",
        "from scipy import signal\n",
        "from scipy.io import wavfile\n",
        "import os\n",
        "import numpy as np\n",
        "import librosa\n",
        "import librosa.display\n",
        "import matplotlib.pyplot as plt\n",
        "import numpy as np\n",
        "import cv2\n",
        "import warnings\n",
        "warnings.filterwarnings(\"ignore\")\n",
        "\n",
        "from google.colab import drive\n",
        "drive.mount('/content/drive')"
      ]
    },
    {
      "cell_type": "code",
      "source": [
        "import tensorflow as tf\n",
        "device_name = tf.test.gpu_device_name()\n",
        "if device_name != '/device:GPU:0':\n",
        "  raise SystemError('GPU device not found')\n",
        "print('Found GPU at: {}'.format(device_name))"
      ],
      "metadata": {
        "colab": {
          "base_uri": "https://localhost:8080/"
        },
        "id": "_tZ1TxfO9Y56",
        "outputId": "577299e3-0d76-43c2-a32c-e238164721e4"
      },
      "execution_count": 3,
      "outputs": [
        {
          "output_type": "stream",
          "name": "stdout",
          "text": [
            "Found GPU at: /device:GPU:0\n"
          ]
        }
      ]
    },
    {
      "cell_type": "code",
      "source": [
        "# Paths\n",
        "main_dir = '/content/Bangla-Number-Recognition-CNN'  # Path to FSDD\n",
        "files_path = '/content/drive/MyDrive/bangla'  # Save processed data\n",
        "\n",
        "if not os.path.exists(files_path):\n",
        "    os.makedirs(files_path)\n",
        "\n",
        "# Clone the dataset if not already cloned\n",
        "if not os.path.exists(main_dir):\n",
        "    !git clone https://github.com/ClockWorkKid/Bangla-Number-Recognition-CNN\n",
        "\n"
      ],
      "metadata": {
        "id": "bLDsYacZMs6q",
        "outputId": "96e633cd-1453-450c-8b08-4faedfdc878e",
        "colab": {
          "base_uri": "https://localhost:8080/"
        }
      },
      "execution_count": 4,
      "outputs": [
        {
          "output_type": "stream",
          "name": "stdout",
          "text": [
            "Cloning into 'Bangla-Number-Recognition-CNN'...\n",
            "remote: Enumerating objects: 2699, done.\u001b[K\n",
            "remote: Total 2699 (delta 0), reused 0 (delta 0), pack-reused 2699 (from 1)\u001b[K\n",
            "Receiving objects: 100% (2699/2699), 85.13 MiB | 22.79 MiB/s, done.\n",
            "Resolving deltas: 100% (60/60), done.\n"
          ]
        }
      ]
    },
    {
      "cell_type": "code",
      "source": [
        "# PROCESSING\n",
        "# Feature extraction methods\n",
        "\n",
        "# def CalculateZeroCrossingRate(file_location):\n",
        "#     y, sr = librosa.load(file_location)\n",
        "#     zCross = librosa.feature.zero_crossing_rate(y=y)\n",
        "#     dim = (32, 32)\n",
        "#     resized = cv2.resize(zCross, dim, interpolation = cv2.INTER_AREA)\n",
        "#     return resized\n",
        "\n",
        "def CalculateMelSpectrogram(file_location):\n",
        "    y, sr = librosa.load(file_location)\n",
        "    melSpec = librosa.feature.melspectrogram(y=y, sr=sr)\n",
        "    melSpec_dB = librosa.power_to_db(melSpec)\n",
        "    dim = (32, 32)\n",
        "    resized = cv2.resize(melSpec_dB, dim, interpolation = cv2.INTER_AREA)\n",
        "    return resized\n",
        "\n",
        "\n",
        "def CalculateMFCC(file_location):\n",
        "    y, sr = librosa.load(file_location)\n",
        "    melSpec = librosa.feature.mfcc(y=y, sr=sr)\n",
        "    dim = (32, 32)\n",
        "    resized = cv2.resize(melSpec, dim, interpolation = cv2.INTER_AREA)\n",
        "    return resized\n",
        "\n"
      ],
      "metadata": {
        "id": "wSSuTUoKdZYD"
      },
      "execution_count": 5,
      "outputs": []
    },
    {
      "cell_type": "code",
      "source": [
        "cd /content"
      ],
      "metadata": {
        "colab": {
          "base_uri": "https://localhost:8080/"
        },
        "id": "7gQiVbsAfsgj",
        "outputId": "c7b8c788-84cd-44d2-d07b-97868c9500fd"
      },
      "execution_count": 6,
      "outputs": [
        {
          "output_type": "stream",
          "name": "stdout",
          "text": [
            "/content\n"
          ]
        }
      ]
    },
    {
      "cell_type": "code",
      "source": [
        "'''for i in range(10):\n",
        "  j = '/content/dataset'\n",
        "  print(os.listdir(j))\n",
        "  for k in os.listdir(j):\n",
        "    print(k)\n",
        "    if \".DS_\" in k:\n",
        "      continue\n",
        "\n",
        "    for t in os.listdir(j+\"/\"+k):\n",
        "      #print(\"path = \", os.listdir(j+\"/\"+k))\n",
        "      if \".DS_\" in k:\n",
        "        continue\n",
        "      print(t.split(\"WA\")[1].split(\".\")[0])\n",
        "      #print(t.split(\"D\")[1][0])\n",
        "      break\n",
        "    break\n",
        "  break '''"
      ],
      "metadata": {
        "colab": {
          "base_uri": "https://localhost:8080/",
          "height": 72
        },
        "id": "0BZCldknfBtv",
        "outputId": "e43a2794-8ac1-43d7-b927-c94c3e432e3f"
      },
      "execution_count": null,
      "outputs": [
        {
          "output_type": "execute_result",
          "data": {
            "text/plain": [
              "'for i in range(10):\\n  j = \\'/content/dataset\\'\\n  print(os.listdir(j))\\n  for k in os.listdir(j):\\n    print(k)\\n    if \".DS_\" in k:\\n      continue\\n\\n    for t in os.listdir(j+\"/\"+k):\\n      #print(\"path = \", os.listdir(j+\"/\"+k))\\n      if \".DS_\" in k:\\n        continue\\n      print(t.split(\"WA\")[1].split(\".\")[0])\\n      #print(t.split(\"D\")[1][0])\\n      break\\n    break\\n  break '"
            ],
            "application/vnd.google.colaboratory.intrinsic+json": {
              "type": "string"
            }
          },
          "metadata": {},
          "execution_count": 6
        }
      ]
    },
    {
      "cell_type": "code",
      "source": [
        "import os\n",
        "import numpy as np\n",
        "\n",
        "# Paths\n",
        "main_dir = '/content/Bangla-Number-Recognition-CNN'  # Path to the main dataset folder\n",
        "recordings_dir = os.path.join(main_dir, 'Dataset/Dataset_sorted')  # Path to the Dataset_sorted folder\n",
        "files_path = '/content/drive/MyDrive/bangla'  # Save processed data\n",
        "\n",
        "# Ensure output directory exists\n",
        "if not os.path.exists(files_path):\n",
        "    os.makedirs(files_path)\n",
        "\n",
        "# Processing\n",
        "x = []\n",
        "y = []\n",
        "\n",
        "# Loop through each label directory (0, 1, ..., 9, noise)\n",
        "for label_dir in os.listdir(recordings_dir):\n",
        "    label_path = os.path.join(recordings_dir, label_dir)\n",
        "\n",
        "    # Ensure it's a directory\n",
        "    if not os.path.isdir(label_path):\n",
        "        continue\n",
        "\n",
        "    # Process files within the label directory\n",
        "    for file_name in os.listdir(label_path):\n",
        "        if not file_name.endswith('.wav'):  # Skip non-wav files\n",
        "            continue\n",
        "\n",
        "        file_path = os.path.join(label_path, file_name)\n",
        "\n",
        "        try:\n",
        "            # Extract Mel Spectrogram features\n",
        "            x.append(CalculateMelSpectrogram(file_path))\n",
        "\n",
        "            # Use directory name as label (e.g., '0', '1', ..., 'noise')\n",
        "            label = int(label_dir) if label_dir.isdigit() else 10  # Assign 10 for 'noise'\n",
        "            y.append(label)\n",
        "        except Exception as e:\n",
        "            print(f\"Error processing {file_name}: {e}\")\n",
        "\n",
        "# Convert to NumPy arrays\n",
        "x = np.array(x)\n",
        "y = np.array(y)\n",
        "\n",
        "# Verify data\n",
        "if x.size == 0 or y.size == 0:\n",
        "    raise ValueError(\"No data was processed. Check dataset structure and feature extraction.\")\n",
        "\n",
        "# Save processed data\n",
        "np.save(os.path.join(files_path, \"X_melspectrogram.npy\"), x)\n",
        "np.save(os.path.join(files_path, \"Y_melspectrogram.npy\"), y)\n",
        "\n",
        "print(f\"Processing completed. Processed data saved in {files_path}.\")\n"
      ],
      "metadata": {
        "colab": {
          "base_uri": "https://localhost:8080/"
        },
        "id": "_uDGZMiBFIm0",
        "outputId": "d535cef0-9f46-4b14-ebb5-75652d09cdc3"
      },
      "execution_count": 7,
      "outputs": [
        {
          "output_type": "stream",
          "name": "stdout",
          "text": [
            "Processing completed. Processed data saved in /content/drive/MyDrive/bangla.\n"
          ]
        }
      ]
    },
    {
      "cell_type": "code",
      "source": [
        "#load files\n",
        "files_path = '/content/drive/MyDrive/bangla'  # Save processed data\n",
        "\n",
        "x_melspectrogram = np.load(files_path+\"/X_melspectrogram.npy\", allow_pickle=True)\n",
        "# x_zero_crossing_rate = np.load(files_path+\"/X_zero_crossing_rate.npy\", allow_pickle=True)\n",
        "#x_mfcc = np.load(files_path+\"/X_mfcc.npy\", allow_pickle=True)\n",
        "y_melspectrogram = np.load(files_path+\"/Y_melspectrogram.npy\", allow_pickle=True)\n",
        "# y_zero_crossing_rate = np.load(files_path+\"/y_zero_crossing_rate.npy\", allow_pickle=True)\n",
        "#y_mfcc = np.load(files_path+\"/Y_mfcc.npy\", allow_pickle=True)"
      ],
      "metadata": {
        "id": "MQi3OLjocbH3"
      },
      "execution_count": 8,
      "outputs": []
    },
    {
      "cell_type": "code",
      "source": [
        "# #Split data into train and test\n",
        "\n",
        "# from sklearn.model_selection import train_test_split\n",
        "# x = x_mfcc\n",
        "# y = y_mfcc\n",
        "\n",
        "# x_train, x_test, y_train, y_test = train_test_split(x, y, test_size=0.20, random_state=42)\n",
        "# np.save(files_path+\"/x_mfcc_train\",x_train)\n",
        "# np.save(files_path+\"/y_mfcc_train\",y_train)\n",
        "# np.save(files_path+\"/x_mfcc_test\",x_test)\n",
        "# np.save(files_path+\"/y_mfcc_test\",y_test)"
      ],
      "metadata": {
        "id": "mggTLnkMbQ9h"
      },
      "execution_count": null,
      "outputs": []
    },
    {
      "cell_type": "code",
      "source": [
        "from sklearn.model_selection import train_test_split\n",
        "x = x_melspectrogram\n",
        "y = y_melspectrogram\n",
        "\n",
        "x_train, x_test, y_train, y_test = train_test_split(x, y, test_size=0.20, random_state=42)\n",
        "np.save(files_path+\"/x_melspectrogram_train\",x_train)\n",
        "np.save(files_path+\"/y_melspectrogram_train\",y_train)\n",
        "np.save(files_path+\"/x_melspectrogram_test\",x_test)\n",
        "np.save(files_path+\"/y_melspectrogram_test\",y_test)"
      ],
      "metadata": {
        "id": "hIDdNB7PT38n"
      },
      "execution_count": 9,
      "outputs": []
    },
    {
      "cell_type": "code",
      "source": [
        "\n",
        "# from sklearn.model_selection import train_test_split\n",
        "# x = x_zero_crossing_rate\n",
        "# y = y_zero_crossing_rate\n",
        "\n",
        "# x_train, x_test, y_train, y_test = train_test_split(x, y, test_size=0.20, random_state=42)\n",
        "# np.save(files_path+\"/x_zero_crossing_rate_train\",x_train)\n",
        "# np.save(files_path+\"/y_zero_crossing_rate_train\",y_train)\n",
        "# np.save(files_path+\"/x_zero_crossing_rate_test\",x_test)\n",
        "# np.save(files_path+\"/y_zero_crossing_rate_test\",y_test)"
      ],
      "metadata": {
        "id": "Xay2hhdbT6Es"
      },
      "execution_count": null,
      "outputs": []
    },
    {
      "cell_type": "code",
      "source": [
        "import tensorflow as tf\n",
        "import numpy as np\n",
        "\n",
        "files_path = '/content/drive/MyDrive/bangla'\n",
        "\n",
        "features = ['melspectrogram', 'mfcc', 'zero_crossing_rate']\n",
        "\n",
        "x_train = np.load(files_path+\"/x_{}_train.npy\".format(features[0]), allow_pickle=True)\n",
        "y_train = np.load(files_path+\"/y_{}_train.npy\".format(features[0]), allow_pickle=True)\n",
        "\n",
        "x_test = np.load(files_path+\"/x_{}_test.npy\".format(features[0]),allow_pickle=True)\n",
        "y_test = np.load(files_path+\"/y_{}_test.npy\".format(features[0]),allow_pickle=True)"
      ],
      "metadata": {
        "id": "4sTIOC0DToyj"
      },
      "execution_count": 10,
      "outputs": []
    },
    {
      "cell_type": "code",
      "source": [
        "print(np.unique(y_melspectrogram))"
      ],
      "metadata": {
        "colab": {
          "base_uri": "https://localhost:8080/"
        },
        "id": "elOv-AAYmZo_",
        "outputId": "3da69469-8a8e-452e-c02a-886f06053a9f"
      },
      "execution_count": 11,
      "outputs": [
        {
          "output_type": "stream",
          "name": "stdout",
          "text": [
            "[ 0  1  2  3  4  5  6  7  8  9 10]\n"
          ]
        }
      ]
    },
    {
      "cell_type": "code",
      "source": [
        "x_train =x_train.reshape((x_train.shape[0],32,32,1))\n",
        "x_test =x_test.reshape((x_test.shape[0],32,32,1))"
      ],
      "metadata": {
        "id": "HNPZQvHEeZVS"
      },
      "execution_count": 12,
      "outputs": []
    },
    {
      "cell_type": "code",
      "source": [
        "x_train = x_train.reshape(-1, 32, 32, 1)  # Reshape to match the input shape of the model\n",
        "x_test = x_test.reshape(-1, 32, 32, 1)    # Reshape for testing\n",
        "train_y = tf.keras.utils.to_categorical(y_train, num_classes=11)  # One-hot encode\n",
        "test_y = tf.keras.utils.to_categorical(y_test, num_classes=11)    # One-hot encode\n"
      ],
      "metadata": {
        "id": "0JbGx-WgVVPQ"
      },
      "execution_count": 13,
      "outputs": []
    },
    {
      "cell_type": "code",
      "source": [
        "print(\"Shape of x_train:\", x_train.shape)\n",
        "print(\"Shape of x_test:\", x_test.shape)\n"
      ],
      "metadata": {
        "id": "4PBvBFQJXPvF",
        "outputId": "8a79403b-ddf1-4772-8248-1e1971c02c0e",
        "colab": {
          "base_uri": "https://localhost:8080/"
        }
      },
      "execution_count": 14,
      "outputs": [
        {
          "output_type": "stream",
          "name": "stdout",
          "text": [
            "Shape of x_train: (1961, 32, 32, 1)\n",
            "Shape of x_test: (491, 32, 32, 1)\n"
          ]
        }
      ]
    },
    {
      "cell_type": "code",
      "source": [
        "print(\"Min value in x_train:\", x_train.min())\n",
        "print(\"Max value in x_train:\", x_train.max())\n"
      ],
      "metadata": {
        "id": "KPiAeQqSXmEZ",
        "outputId": "3157b44d-1661-4d80-d1a6-27a7832c9938",
        "colab": {
          "base_uri": "https://localhost:8080/"
        }
      },
      "execution_count": 15,
      "outputs": [
        {
          "output_type": "stream",
          "name": "stdout",
          "text": [
            "Min value in x_train: -100.00001\n",
            "Max value in x_train: 36.15473\n"
          ]
        }
      ]
    },
    {
      "cell_type": "code",
      "source": [
        "# Normalize x_train and x_test to the range [0, 1]\n",
        "x_train = (x_train - x_train.min()) / (x_train.max() - x_train.min())\n",
        "x_test = (x_test - x_test.min()) / (x_test.max() - x_test.min())\n"
      ],
      "metadata": {
        "id": "_yd1GQgOXyQD"
      },
      "execution_count": 16,
      "outputs": []
    },
    {
      "cell_type": "markdown",
      "source": [
        "## Train Model"
      ],
      "metadata": {
        "id": "2o-1LnghejML"
      }
    },
    {
      "cell_type": "code",
      "source": [
        "#GoogleNet\n",
        "import tensorflow as tf\n",
        "from tensorflow.keras import layers, models\n",
        "\n",
        "# Define GoogleNet (Inception) model for audio data\n",
        "def GetGoogleNet(input_shape=(32, 32, 1)):\n",
        "    # Input layer\n",
        "    input_layer = layers.Input(shape=input_shape)\n",
        "\n",
        "    # Convert 1-channel input to 3-channel (required for pretrained models)\n",
        "    x = layers.Conv2D(3, (1, 1), activation='relu')(input_layer)\n",
        "\n",
        "    # Inception Block 1\n",
        "    tower_1 = layers.Conv2D(64, (1, 1), padding='same', activation='relu')(x)\n",
        "    tower_1 = layers.Conv2D(64, (3, 3), padding='same', activation='relu')(tower_1)\n",
        "\n",
        "    tower_2 = layers.Conv2D(64, (1, 1), padding='same', activation='relu')(x)\n",
        "    tower_2 = layers.Conv2D(64, (5, 5), padding='same', activation='relu')(tower_2)\n",
        "\n",
        "    tower_3 = layers.MaxPooling2D((3, 3), strides=(1, 1), padding='same')(x)\n",
        "    tower_3 = layers.Conv2D(64, (1, 1), padding='same', activation='relu')(tower_3)\n",
        "\n",
        "    x = layers.concatenate([tower_1, tower_2, tower_3], axis=-1)\n",
        "\n",
        "    # Inception Block 2\n",
        "    tower_1 = layers.Conv2D(128, (1, 1), padding='same', activation='relu')(x)\n",
        "    tower_1 = layers.Conv2D(128, (3, 3), padding='same', activation='relu')(tower_1)\n",
        "\n",
        "    tower_2 = layers.Conv2D(128, (1, 1), padding='same', activation='relu')(x)\n",
        "    tower_2 = layers.Conv2D(128, (5, 5), padding='same', activation='relu')(tower_2)\n",
        "\n",
        "    tower_3 = layers.MaxPooling2D((3, 3), strides=(1, 1), padding='same')(x)\n",
        "    tower_3 = layers.Conv2D(128, (1, 1), padding='same', activation='relu')(tower_3)\n",
        "\n",
        "    x = layers.concatenate([tower_1, tower_2, tower_3], axis=-1)\n",
        "\n",
        "    # Add Global Average Pooling\n",
        "    x = layers.GlobalAveragePooling2D()(x)\n",
        "\n",
        "    # Fully connected layers\n",
        "    x = layers.Dropout(0.5)(x)  # Regularization\n",
        "    x = layers.Dense(256, activation='relu')(x)\n",
        "    x = layers.Dropout(0.5)(x)  # Regularization\n",
        "    output_layer = layers.Dense(11, activation='softmax')(x)  # Output layer for 10 classes\n",
        "\n",
        "    # Define the model\n",
        "    model = models.Model(inputs=input_layer, outputs=output_layer)\n",
        "    return model\n",
        "\n",
        "# Preprocess the audio data (assumed to be Mel Spectrograms)\n",
        "# x_train and x_test must be 2D arrays representing audio features\n",
        "x_train = x_train.reshape(-1, 32, 32, 1)  # Reshape to match input shape\n",
        "x_test = x_test.reshape(-1, 32, 32, 1)    # Same for test data\n",
        "\n",
        "# Normalize the audio data\n",
        "x_train = x_train / 255.0\n",
        "x_test = x_test / 255.0\n",
        "\n",
        "# One-hot encode the labels for 10-class classification\n",
        "train_y = tf.keras.utils.to_categorical(y_train, num_classes=11)\n",
        "test_y = tf.keras.utils.to_categorical(y_test, num_classes=11)\n",
        "\n",
        "# Compile the GoogleNet model\n",
        "googlenet_model = GetGoogleNet(input_shape=(32, 32, 1))\n",
        "googlenet_model.compile(\n",
        "    loss=tf.keras.losses.CategoricalCrossentropy(),\n",
        "    metrics=[\"accuracy\"],\n",
        "    optimizer=tf.keras.optimizers.Adam(learning_rate=0.001)  # Lower learning rate\n",
        ")\n",
        "\n",
        "# Define callback for saving the best model\n",
        "callbacks = tf.keras.callbacks.ModelCheckpoint(\n",
        "    filepath='/content/drive/MyDrive/auddsavedfiles/models/googlenet_model_audio.keras',\n",
        "    monitor='val_accuracy',\n",
        "    mode='max',\n",
        "    save_best_only=True,\n",
        "    verbose=1\n",
        ")\n",
        "\n",
        "# Train the model\n",
        "history = googlenet_model.fit(\n",
        "    x_train, train_y,\n",
        "    batch_size=64,\n",
        "    epochs=50,\n",
        "    verbose=1,\n",
        "    validation_split=0.1,\n",
        "    callbacks=[callbacks]\n",
        ")\n",
        "\n",
        "# Evaluate the model on test data\n",
        "test_accuracy = googlenet_model.evaluate(x_test, test_y)\n",
        "print(\"Test Accuracy is\", test_accuracy[1])\n"
      ],
      "metadata": {
        "id": "SHNjAcecWgx6",
        "outputId": "32b9a858-a3db-4c45-f310-2efa40cc9d22",
        "colab": {
          "base_uri": "https://localhost:8080/"
        }
      },
      "execution_count": 17,
      "outputs": [
        {
          "output_type": "stream",
          "name": "stdout",
          "text": [
            "Epoch 1/50\n",
            "\u001b[1m28/28\u001b[0m \u001b[32m━━━━━━━━━━━━━━━━━━━━\u001b[0m\u001b[37m\u001b[0m \u001b[1m0s\u001b[0m 274ms/step - accuracy: 0.0910 - loss: 2.3980\n",
            "Epoch 1: val_accuracy improved from -inf to 0.10152, saving model to /content/drive/MyDrive/auddsavedfiles/models/googlenet_model_audio.keras\n",
            "\u001b[1m28/28\u001b[0m \u001b[32m━━━━━━━━━━━━━━━━━━━━\u001b[0m\u001b[37m\u001b[0m \u001b[1m25s\u001b[0m 439ms/step - accuracy: 0.0913 - loss: 2.3980 - val_accuracy: 0.1015 - val_loss: 2.3959\n",
            "Epoch 2/50\n",
            "\u001b[1m27/28\u001b[0m \u001b[32m━━━━━━━━━━━━━━━━━━━\u001b[0m\u001b[37m━\u001b[0m \u001b[1m0s\u001b[0m 51ms/step - accuracy: 0.1099 - loss: 2.3926\n",
            "Epoch 2: val_accuracy improved from 0.10152 to 0.10660, saving model to /content/drive/MyDrive/auddsavedfiles/models/googlenet_model_audio.keras\n",
            "\u001b[1m28/28\u001b[0m \u001b[32m━━━━━━━━━━━━━━━━━━━━\u001b[0m\u001b[37m\u001b[0m \u001b[1m20s\u001b[0m 57ms/step - accuracy: 0.1101 - loss: 2.3926 - val_accuracy: 0.1066 - val_loss: 2.3966\n",
            "Epoch 3/50\n",
            "\u001b[1m27/28\u001b[0m \u001b[32m━━━━━━━━━━━━━━━━━━━\u001b[0m\u001b[37m━\u001b[0m \u001b[1m0s\u001b[0m 48ms/step - accuracy: 0.1175 - loss: 2.3885\n",
            "Epoch 3: val_accuracy did not improve from 0.10660\n",
            "\u001b[1m28/28\u001b[0m \u001b[32m━━━━━━━━━━━━━━━━━━━━\u001b[0m\u001b[37m\u001b[0m \u001b[1m1s\u001b[0m 50ms/step - accuracy: 0.1175 - loss: 2.3886 - val_accuracy: 0.1066 - val_loss: 2.3924\n",
            "Epoch 4/50\n",
            "\u001b[1m28/28\u001b[0m \u001b[32m━━━━━━━━━━━━━━━━━━━━\u001b[0m\u001b[37m\u001b[0m \u001b[1m0s\u001b[0m 48ms/step - accuracy: 0.1190 - loss: 2.3902\n",
            "Epoch 4: val_accuracy did not improve from 0.10660\n",
            "\u001b[1m28/28\u001b[0m \u001b[32m━━━━━━━━━━━━━━━━━━━━\u001b[0m\u001b[37m\u001b[0m \u001b[1m1s\u001b[0m 50ms/step - accuracy: 0.1187 - loss: 2.3903 - val_accuracy: 0.1066 - val_loss: 2.3935\n",
            "Epoch 5/50\n",
            "\u001b[1m27/28\u001b[0m \u001b[32m━━━━━━━━━━━━━━━━━━━\u001b[0m\u001b[37m━\u001b[0m \u001b[1m0s\u001b[0m 50ms/step - accuracy: 0.1318 - loss: 2.3880\n",
            "Epoch 5: val_accuracy did not improve from 0.10660\n",
            "\u001b[1m28/28\u001b[0m \u001b[32m━━━━━━━━━━━━━━━━━━━━\u001b[0m\u001b[37m\u001b[0m \u001b[1m1s\u001b[0m 53ms/step - accuracy: 0.1311 - loss: 2.3883 - val_accuracy: 0.1066 - val_loss: 2.3929\n",
            "Epoch 6/50\n",
            "\u001b[1m27/28\u001b[0m \u001b[32m━━━━━━━━━━━━━━━━━━━\u001b[0m\u001b[37m━\u001b[0m \u001b[1m0s\u001b[0m 50ms/step - accuracy: 0.1250 - loss: 2.3907\n",
            "Epoch 6: val_accuracy did not improve from 0.10660\n",
            "\u001b[1m28/28\u001b[0m \u001b[32m━━━━━━━━━━━━━━━━━━━━\u001b[0m\u001b[37m\u001b[0m \u001b[1m3s\u001b[0m 53ms/step - accuracy: 0.1251 - loss: 2.3907 - val_accuracy: 0.1066 - val_loss: 2.3949\n",
            "Epoch 7/50\n",
            "\u001b[1m28/28\u001b[0m \u001b[32m━━━━━━━━━━━━━━━━━━━━\u001b[0m\u001b[37m\u001b[0m \u001b[1m0s\u001b[0m 53ms/step - accuracy: 0.1029 - loss: 2.3933\n",
            "Epoch 7: val_accuracy did not improve from 0.10660\n",
            "\u001b[1m28/28\u001b[0m \u001b[32m━━━━━━━━━━━━━━━━━━━━\u001b[0m\u001b[37m\u001b[0m \u001b[1m2s\u001b[0m 56ms/step - accuracy: 0.1032 - loss: 2.3932 - val_accuracy: 0.1066 - val_loss: 2.3921\n",
            "Epoch 8/50\n",
            "\u001b[1m27/28\u001b[0m \u001b[32m━━━━━━━━━━━━━━━━━━━\u001b[0m\u001b[37m━\u001b[0m \u001b[1m0s\u001b[0m 55ms/step - accuracy: 0.1189 - loss: 2.3882\n",
            "Epoch 8: val_accuracy did not improve from 0.10660\n",
            "\u001b[1m28/28\u001b[0m \u001b[32m━━━━━━━━━━━━━━━━━━━━\u001b[0m\u001b[37m\u001b[0m \u001b[1m2s\u001b[0m 57ms/step - accuracy: 0.1190 - loss: 2.3883 - val_accuracy: 0.1066 - val_loss: 2.3930\n",
            "Epoch 9/50\n",
            "\u001b[1m27/28\u001b[0m \u001b[32m━━━━━━━━━━━━━━━━━━━\u001b[0m\u001b[37m━\u001b[0m \u001b[1m0s\u001b[0m 54ms/step - accuracy: 0.1103 - loss: 2.3889\n",
            "Epoch 9: val_accuracy did not improve from 0.10660\n",
            "\u001b[1m28/28\u001b[0m \u001b[32m━━━━━━━━━━━━━━━━━━━━\u001b[0m\u001b[37m\u001b[0m \u001b[1m3s\u001b[0m 56ms/step - accuracy: 0.1103 - loss: 2.3889 - val_accuracy: 0.1066 - val_loss: 2.3944\n",
            "Epoch 10/50\n",
            "\u001b[1m27/28\u001b[0m \u001b[32m━━━━━━━━━━━━━━━━━━━\u001b[0m\u001b[37m━\u001b[0m \u001b[1m0s\u001b[0m 52ms/step - accuracy: 0.1086 - loss: 2.3902\n",
            "Epoch 10: val_accuracy did not improve from 0.10660\n",
            "\u001b[1m28/28\u001b[0m \u001b[32m━━━━━━━━━━━━━━━━━━━━\u001b[0m\u001b[37m\u001b[0m \u001b[1m2s\u001b[0m 55ms/step - accuracy: 0.1088 - loss: 2.3902 - val_accuracy: 0.1066 - val_loss: 2.3925\n",
            "Epoch 11/50\n",
            "\u001b[1m27/28\u001b[0m \u001b[32m━━━━━━━━━━━━━━━━━━━\u001b[0m\u001b[37m━\u001b[0m \u001b[1m0s\u001b[0m 52ms/step - accuracy: 0.1137 - loss: 2.3893\n",
            "Epoch 11: val_accuracy did not improve from 0.10660\n",
            "\u001b[1m28/28\u001b[0m \u001b[32m━━━━━━━━━━━━━━━━━━━━\u001b[0m\u001b[37m\u001b[0m \u001b[1m2s\u001b[0m 54ms/step - accuracy: 0.1140 - loss: 2.3894 - val_accuracy: 0.1066 - val_loss: 2.3919\n",
            "Epoch 12/50\n",
            "\u001b[1m27/28\u001b[0m \u001b[32m━━━━━━━━━━━━━━━━━━━\u001b[0m\u001b[37m━\u001b[0m \u001b[1m0s\u001b[0m 55ms/step - accuracy: 0.1061 - loss: 2.3913\n",
            "Epoch 12: val_accuracy did not improve from 0.10660\n",
            "\u001b[1m28/28\u001b[0m \u001b[32m━━━━━━━━━━━━━━━━━━━━\u001b[0m\u001b[37m\u001b[0m \u001b[1m3s\u001b[0m 58ms/step - accuracy: 0.1063 - loss: 2.3912 - val_accuracy: 0.1066 - val_loss: 2.3923\n",
            "Epoch 13/50\n",
            "\u001b[1m27/28\u001b[0m \u001b[32m━━━━━━━━━━━━━━━━━━━\u001b[0m\u001b[37m━\u001b[0m \u001b[1m0s\u001b[0m 53ms/step - accuracy: 0.1175 - loss: 2.3913\n",
            "Epoch 13: val_accuracy did not improve from 0.10660\n",
            "\u001b[1m28/28\u001b[0m \u001b[32m━━━━━━━━━━━━━━━━━━━━\u001b[0m\u001b[37m\u001b[0m \u001b[1m2s\u001b[0m 56ms/step - accuracy: 0.1177 - loss: 2.3913 - val_accuracy: 0.1066 - val_loss: 2.3935\n",
            "Epoch 14/50\n",
            "\u001b[1m27/28\u001b[0m \u001b[32m━━━━━━━━━━━━━━━━━━━\u001b[0m\u001b[37m━\u001b[0m \u001b[1m0s\u001b[0m 52ms/step - accuracy: 0.1144 - loss: 2.3911\n",
            "Epoch 14: val_accuracy did not improve from 0.10660\n",
            "\u001b[1m28/28\u001b[0m \u001b[32m━━━━━━━━━━━━━━━━━━━━\u001b[0m\u001b[37m\u001b[0m \u001b[1m3s\u001b[0m 55ms/step - accuracy: 0.1148 - loss: 2.3910 - val_accuracy: 0.1066 - val_loss: 2.3934\n",
            "Epoch 15/50\n",
            "\u001b[1m28/28\u001b[0m \u001b[32m━━━━━━━━━━━━━━━━━━━━\u001b[0m\u001b[37m\u001b[0m \u001b[1m0s\u001b[0m 51ms/step - accuracy: 0.1087 - loss: 2.3927\n",
            "Epoch 15: val_accuracy did not improve from 0.10660\n",
            "\u001b[1m28/28\u001b[0m \u001b[32m━━━━━━━━━━━━━━━━━━━━\u001b[0m\u001b[37m\u001b[0m \u001b[1m2s\u001b[0m 53ms/step - accuracy: 0.1088 - loss: 2.3926 - val_accuracy: 0.1066 - val_loss: 2.3931\n",
            "Epoch 16/50\n",
            "\u001b[1m27/28\u001b[0m \u001b[32m━━━━━━━━━━━━━━━━━━━\u001b[0m\u001b[37m━\u001b[0m \u001b[1m0s\u001b[0m 52ms/step - accuracy: 0.1043 - loss: 2.3919\n",
            "Epoch 16: val_accuracy did not improve from 0.10660\n",
            "\u001b[1m28/28\u001b[0m \u001b[32m━━━━━━━━━━━━━━━━━━━━\u001b[0m\u001b[37m\u001b[0m \u001b[1m2s\u001b[0m 54ms/step - accuracy: 0.1045 - loss: 2.3919 - val_accuracy: 0.1066 - val_loss: 2.3931\n",
            "Epoch 17/50\n",
            "\u001b[1m27/28\u001b[0m \u001b[32m━━━━━━━━━━━━━━━━━━━\u001b[0m\u001b[37m━\u001b[0m \u001b[1m0s\u001b[0m 50ms/step - accuracy: 0.1006 - loss: 2.3956\n",
            "Epoch 17: val_accuracy did not improve from 0.10660\n",
            "\u001b[1m28/28\u001b[0m \u001b[32m━━━━━━━━━━━━━━━━━━━━\u001b[0m\u001b[37m\u001b[0m \u001b[1m2s\u001b[0m 52ms/step - accuracy: 0.1019 - loss: 2.3953 - val_accuracy: 0.1066 - val_loss: 2.3929\n",
            "Epoch 18/50\n",
            "\u001b[1m28/28\u001b[0m \u001b[32m━━━━━━━━━━━━━━━━━━━━\u001b[0m\u001b[37m\u001b[0m \u001b[1m0s\u001b[0m 50ms/step - accuracy: 0.1168 - loss: 2.3904\n",
            "Epoch 18: val_accuracy did not improve from 0.10660\n",
            "\u001b[1m28/28\u001b[0m \u001b[32m━━━━━━━━━━━━━━━━━━━━\u001b[0m\u001b[37m\u001b[0m \u001b[1m3s\u001b[0m 52ms/step - accuracy: 0.1171 - loss: 2.3905 - val_accuracy: 0.1066 - val_loss: 2.3933\n",
            "Epoch 19/50\n",
            "\u001b[1m27/28\u001b[0m \u001b[32m━━━━━━━━━━━━━━━━━━━\u001b[0m\u001b[37m━\u001b[0m \u001b[1m0s\u001b[0m 53ms/step - accuracy: 0.1060 - loss: 2.3958\n",
            "Epoch 19: val_accuracy did not improve from 0.10660\n",
            "\u001b[1m28/28\u001b[0m \u001b[32m━━━━━━━━━━━━━━━━━━━━\u001b[0m\u001b[37m\u001b[0m \u001b[1m3s\u001b[0m 56ms/step - accuracy: 0.1068 - loss: 2.3955 - val_accuracy: 0.1066 - val_loss: 2.3926\n",
            "Epoch 20/50\n",
            "\u001b[1m27/28\u001b[0m \u001b[32m━━━━━━━━━━━━━━━━━━━\u001b[0m\u001b[37m━\u001b[0m \u001b[1m0s\u001b[0m 52ms/step - accuracy: 0.1139 - loss: 2.3907\n",
            "Epoch 20: val_accuracy did not improve from 0.10660\n",
            "\u001b[1m28/28\u001b[0m \u001b[32m━━━━━━━━━━━━━━━━━━━━\u001b[0m\u001b[37m\u001b[0m \u001b[1m2s\u001b[0m 54ms/step - accuracy: 0.1138 - loss: 2.3907 - val_accuracy: 0.1066 - val_loss: 2.3933\n",
            "Epoch 21/50\n",
            "\u001b[1m27/28\u001b[0m \u001b[32m━━━━━━━━━━━━━━━━━━━\u001b[0m\u001b[37m━\u001b[0m \u001b[1m0s\u001b[0m 48ms/step - accuracy: 0.1164 - loss: 2.3874\n",
            "Epoch 21: val_accuracy did not improve from 0.10660\n",
            "\u001b[1m28/28\u001b[0m \u001b[32m━━━━━━━━━━━━━━━━━━━━\u001b[0m\u001b[37m\u001b[0m \u001b[1m1s\u001b[0m 51ms/step - accuracy: 0.1159 - loss: 2.3876 - val_accuracy: 0.1066 - val_loss: 2.3930\n",
            "Epoch 22/50\n",
            "\u001b[1m28/28\u001b[0m \u001b[32m━━━━━━━━━━━━━━━━━━━━\u001b[0m\u001b[37m\u001b[0m \u001b[1m0s\u001b[0m 48ms/step - accuracy: 0.1158 - loss: 2.3836\n",
            "Epoch 22: val_accuracy did not improve from 0.10660\n",
            "\u001b[1m28/28\u001b[0m \u001b[32m━━━━━━━━━━━━━━━━━━━━\u001b[0m\u001b[37m\u001b[0m \u001b[1m3s\u001b[0m 51ms/step - accuracy: 0.1159 - loss: 2.3838 - val_accuracy: 0.1066 - val_loss: 2.3931\n",
            "Epoch 23/50\n",
            "\u001b[1m28/28\u001b[0m \u001b[32m━━━━━━━━━━━━━━━━━━━━\u001b[0m\u001b[37m\u001b[0m \u001b[1m0s\u001b[0m 48ms/step - accuracy: 0.1099 - loss: 2.3923\n",
            "Epoch 23: val_accuracy did not improve from 0.10660\n",
            "\u001b[1m28/28\u001b[0m \u001b[32m━━━━━━━━━━━━━━━━━━━━\u001b[0m\u001b[37m\u001b[0m \u001b[1m3s\u001b[0m 50ms/step - accuracy: 0.1103 - loss: 2.3922 - val_accuracy: 0.1066 - val_loss: 2.3930\n",
            "Epoch 24/50\n",
            "\u001b[1m27/28\u001b[0m \u001b[32m━━━━━━━━━━━━━━━━━━━\u001b[0m\u001b[37m━\u001b[0m \u001b[1m0s\u001b[0m 49ms/step - accuracy: 0.1111 - loss: 2.3888\n",
            "Epoch 24: val_accuracy did not improve from 0.10660\n",
            "\u001b[1m28/28\u001b[0m \u001b[32m━━━━━━━━━━━━━━━━━━━━\u001b[0m\u001b[37m\u001b[0m \u001b[1m3s\u001b[0m 50ms/step - accuracy: 0.1115 - loss: 2.3889 - val_accuracy: 0.1066 - val_loss: 2.3924\n",
            "Epoch 25/50\n",
            "\u001b[1m27/28\u001b[0m \u001b[32m━━━━━━━━━━━━━━━━━━━\u001b[0m\u001b[37m━\u001b[0m \u001b[1m0s\u001b[0m 51ms/step - accuracy: 0.1112 - loss: 2.3909\n",
            "Epoch 25: val_accuracy did not improve from 0.10660\n",
            "\u001b[1m28/28\u001b[0m \u001b[32m━━━━━━━━━━━━━━━━━━━━\u001b[0m\u001b[37m\u001b[0m \u001b[1m3s\u001b[0m 53ms/step - accuracy: 0.1115 - loss: 2.3909 - val_accuracy: 0.1066 - val_loss: 2.3930\n",
            "Epoch 26/50\n",
            "\u001b[1m27/28\u001b[0m \u001b[32m━━━━━━━━━━━━━━━━━━━\u001b[0m\u001b[37m━\u001b[0m \u001b[1m0s\u001b[0m 51ms/step - accuracy: 0.1187 - loss: 2.3917\n",
            "Epoch 26: val_accuracy did not improve from 0.10660\n",
            "\u001b[1m28/28\u001b[0m \u001b[32m━━━━━━━━━━━━━━━━━━━━\u001b[0m\u001b[37m\u001b[0m \u001b[1m2s\u001b[0m 53ms/step - accuracy: 0.1183 - loss: 2.3916 - val_accuracy: 0.1066 - val_loss: 2.3927\n",
            "Epoch 27/50\n",
            "\u001b[1m28/28\u001b[0m \u001b[32m━━━━━━━━━━━━━━━━━━━━\u001b[0m\u001b[37m\u001b[0m \u001b[1m0s\u001b[0m 49ms/step - accuracy: 0.1197 - loss: 2.3860\n",
            "Epoch 27: val_accuracy did not improve from 0.10660\n",
            "\u001b[1m28/28\u001b[0m \u001b[32m━━━━━━━━━━━━━━━━━━━━\u001b[0m\u001b[37m\u001b[0m \u001b[1m1s\u001b[0m 51ms/step - accuracy: 0.1195 - loss: 2.3862 - val_accuracy: 0.1066 - val_loss: 2.3928\n",
            "Epoch 28/50\n",
            "\u001b[1m28/28\u001b[0m \u001b[32m━━━━━━━━━━━━━━━━━━━━\u001b[0m\u001b[37m\u001b[0m \u001b[1m0s\u001b[0m 48ms/step - accuracy: 0.1050 - loss: 2.3924\n",
            "Epoch 28: val_accuracy did not improve from 0.10660\n",
            "\u001b[1m28/28\u001b[0m \u001b[32m━━━━━━━━━━━━━━━━━━━━\u001b[0m\u001b[37m\u001b[0m \u001b[1m3s\u001b[0m 51ms/step - accuracy: 0.1051 - loss: 2.3924 - val_accuracy: 0.1066 - val_loss: 2.3931\n",
            "Epoch 29/50\n",
            "\u001b[1m27/28\u001b[0m \u001b[32m━━━━━━━━━━━━━━━━━━━\u001b[0m\u001b[37m━\u001b[0m \u001b[1m0s\u001b[0m 49ms/step - accuracy: 0.1139 - loss: 2.3918\n",
            "Epoch 29: val_accuracy did not improve from 0.10660\n",
            "\u001b[1m28/28\u001b[0m \u001b[32m━━━━━━━━━━━━━━━━━━━━\u001b[0m\u001b[37m\u001b[0m \u001b[1m3s\u001b[0m 51ms/step - accuracy: 0.1143 - loss: 2.3918 - val_accuracy: 0.1066 - val_loss: 2.3931\n",
            "Epoch 30/50\n",
            "\u001b[1m28/28\u001b[0m \u001b[32m━━━━━━━━━━━━━━━━━━━━\u001b[0m\u001b[37m\u001b[0m \u001b[1m0s\u001b[0m 49ms/step - accuracy: 0.1311 - loss: 2.3858\n",
            "Epoch 30: val_accuracy did not improve from 0.10660\n",
            "\u001b[1m28/28\u001b[0m \u001b[32m━━━━━━━━━━━━━━━━━━━━\u001b[0m\u001b[37m\u001b[0m \u001b[1m1s\u001b[0m 52ms/step - accuracy: 0.1308 - loss: 2.3860 - val_accuracy: 0.1066 - val_loss: 2.3932\n",
            "Epoch 31/50\n",
            "\u001b[1m27/28\u001b[0m \u001b[32m━━━━━━━━━━━━━━━━━━━\u001b[0m\u001b[37m━\u001b[0m \u001b[1m0s\u001b[0m 49ms/step - accuracy: 0.1165 - loss: 2.3931\n",
            "Epoch 31: val_accuracy did not improve from 0.10660\n",
            "\u001b[1m28/28\u001b[0m \u001b[32m━━━━━━━━━━━━━━━━━━━━\u001b[0m\u001b[37m\u001b[0m \u001b[1m1s\u001b[0m 50ms/step - accuracy: 0.1163 - loss: 2.3930 - val_accuracy: 0.1066 - val_loss: 2.3931\n",
            "Epoch 32/50\n",
            "\u001b[1m27/28\u001b[0m \u001b[32m━━━━━━━━━━━━━━━━━━━\u001b[0m\u001b[37m━\u001b[0m \u001b[1m0s\u001b[0m 52ms/step - accuracy: 0.1265 - loss: 2.3907\n",
            "Epoch 32: val_accuracy did not improve from 0.10660\n",
            "\u001b[1m28/28\u001b[0m \u001b[32m━━━━━━━━━━━━━━━━━━━━\u001b[0m\u001b[37m\u001b[0m \u001b[1m3s\u001b[0m 55ms/step - accuracy: 0.1256 - loss: 2.3907 - val_accuracy: 0.1066 - val_loss: 2.3933\n",
            "Epoch 33/50\n",
            "\u001b[1m28/28\u001b[0m \u001b[32m━━━━━━━━━━━━━━━━━━━━\u001b[0m\u001b[37m\u001b[0m \u001b[1m0s\u001b[0m 49ms/step - accuracy: 0.1226 - loss: 2.3968\n",
            "Epoch 33: val_accuracy did not improve from 0.10660\n",
            "\u001b[1m28/28\u001b[0m \u001b[32m━━━━━━━━━━━━━━━━━━━━\u001b[0m\u001b[37m\u001b[0m \u001b[1m2s\u001b[0m 52ms/step - accuracy: 0.1226 - loss: 2.3966 - val_accuracy: 0.1066 - val_loss: 2.3929\n",
            "Epoch 34/50\n",
            "\u001b[1m27/28\u001b[0m \u001b[32m━━━━━━━━━━━━━━━━━━━\u001b[0m\u001b[37m━\u001b[0m \u001b[1m0s\u001b[0m 50ms/step - accuracy: 0.1222 - loss: 2.3880\n",
            "Epoch 34: val_accuracy did not improve from 0.10660\n",
            "\u001b[1m28/28\u001b[0m \u001b[32m━━━━━━━━━━━━━━━━━━━━\u001b[0m\u001b[37m\u001b[0m \u001b[1m3s\u001b[0m 52ms/step - accuracy: 0.1216 - loss: 2.3882 - val_accuracy: 0.1066 - val_loss: 2.3932\n",
            "Epoch 35/50\n",
            "\u001b[1m27/28\u001b[0m \u001b[32m━━━━━━━━━━━━━━━━━━━\u001b[0m\u001b[37m━\u001b[0m \u001b[1m0s\u001b[0m 49ms/step - accuracy: 0.1195 - loss: 2.3898\n",
            "Epoch 35: val_accuracy did not improve from 0.10660\n",
            "\u001b[1m28/28\u001b[0m \u001b[32m━━━━━━━━━━━━━━━━━━━━\u001b[0m\u001b[37m\u001b[0m \u001b[1m2s\u001b[0m 51ms/step - accuracy: 0.1192 - loss: 2.3898 - val_accuracy: 0.1066 - val_loss: 2.3932\n",
            "Epoch 36/50\n",
            "\u001b[1m27/28\u001b[0m \u001b[32m━━━━━━━━━━━━━━━━━━━\u001b[0m\u001b[37m━\u001b[0m \u001b[1m0s\u001b[0m 50ms/step - accuracy: 0.1264 - loss: 2.3856\n",
            "Epoch 36: val_accuracy did not improve from 0.10660\n",
            "\u001b[1m28/28\u001b[0m \u001b[32m━━━━━━━━━━━━━━━━━━━━\u001b[0m\u001b[37m\u001b[0m \u001b[1m1s\u001b[0m 51ms/step - accuracy: 0.1256 - loss: 2.3860 - val_accuracy: 0.1066 - val_loss: 2.3930\n",
            "Epoch 37/50\n",
            "\u001b[1m27/28\u001b[0m \u001b[32m━━━━━━━━━━━━━━━━━━━\u001b[0m\u001b[37m━\u001b[0m \u001b[1m0s\u001b[0m 49ms/step - accuracy: 0.1123 - loss: 2.3915\n",
            "Epoch 37: val_accuracy did not improve from 0.10660\n",
            "\u001b[1m28/28\u001b[0m \u001b[32m━━━━━━━━━━━━━━━━━━━━\u001b[0m\u001b[37m\u001b[0m \u001b[1m3s\u001b[0m 51ms/step - accuracy: 0.1126 - loss: 2.3915 - val_accuracy: 0.1066 - val_loss: 2.3930\n",
            "Epoch 38/50\n",
            "\u001b[1m27/28\u001b[0m \u001b[32m━━━━━━━━━━━━━━━━━━━\u001b[0m\u001b[37m━\u001b[0m \u001b[1m0s\u001b[0m 50ms/step - accuracy: 0.1155 - loss: 2.3871\n",
            "Epoch 38: val_accuracy did not improve from 0.10660\n",
            "\u001b[1m28/28\u001b[0m \u001b[32m━━━━━━━━━━━━━━━━━━━━\u001b[0m\u001b[37m\u001b[0m \u001b[1m3s\u001b[0m 53ms/step - accuracy: 0.1152 - loss: 2.3873 - val_accuracy: 0.1066 - val_loss: 2.3931\n",
            "Epoch 39/50\n",
            "\u001b[1m28/28\u001b[0m \u001b[32m━━━━━━━━━━━━━━━━━━━━\u001b[0m\u001b[37m\u001b[0m \u001b[1m0s\u001b[0m 49ms/step - accuracy: 0.1093 - loss: 2.3916\n",
            "Epoch 39: val_accuracy did not improve from 0.10660\n",
            "\u001b[1m28/28\u001b[0m \u001b[32m━━━━━━━━━━━━━━━━━━━━\u001b[0m\u001b[37m\u001b[0m \u001b[1m3s\u001b[0m 52ms/step - accuracy: 0.1094 - loss: 2.3915 - val_accuracy: 0.1066 - val_loss: 2.3930\n",
            "Epoch 40/50\n",
            "\u001b[1m27/28\u001b[0m \u001b[32m━━━━━━━━━━━━━━━━━━━\u001b[0m\u001b[37m━\u001b[0m \u001b[1m0s\u001b[0m 49ms/step - accuracy: 0.1053 - loss: 2.3929\n",
            "Epoch 40: val_accuracy did not improve from 0.10660\n",
            "\u001b[1m28/28\u001b[0m \u001b[32m━━━━━━━━━━━━━━━━━━━━\u001b[0m\u001b[37m\u001b[0m \u001b[1m1s\u001b[0m 51ms/step - accuracy: 0.1057 - loss: 2.3928 - val_accuracy: 0.1066 - val_loss: 2.3928\n",
            "Epoch 41/50\n",
            "\u001b[1m27/28\u001b[0m \u001b[32m━━━━━━━━━━━━━━━━━━━\u001b[0m\u001b[37m━\u001b[0m \u001b[1m0s\u001b[0m 50ms/step - accuracy: 0.1072 - loss: 2.3900\n",
            "Epoch 41: val_accuracy did not improve from 0.10660\n",
            "\u001b[1m28/28\u001b[0m \u001b[32m━━━━━━━━━━━━━━━━━━━━\u001b[0m\u001b[37m\u001b[0m \u001b[1m1s\u001b[0m 52ms/step - accuracy: 0.1077 - loss: 2.3900 - val_accuracy: 0.1066 - val_loss: 2.3932\n",
            "Epoch 42/50\n",
            "\u001b[1m27/28\u001b[0m \u001b[32m━━━━━━━━━━━━━━━━━━━\u001b[0m\u001b[37m━\u001b[0m \u001b[1m0s\u001b[0m 50ms/step - accuracy: 0.1104 - loss: 2.3901\n",
            "Epoch 42: val_accuracy did not improve from 0.10660\n",
            "\u001b[1m28/28\u001b[0m \u001b[32m━━━━━━━━━━━━━━━━━━━━\u001b[0m\u001b[37m\u001b[0m \u001b[1m3s\u001b[0m 52ms/step - accuracy: 0.1108 - loss: 2.3901 - val_accuracy: 0.1066 - val_loss: 2.3937\n",
            "Epoch 43/50\n",
            "\u001b[1m27/28\u001b[0m \u001b[32m━━━━━━━━━━━━━━━━━━━\u001b[0m\u001b[37m━\u001b[0m \u001b[1m0s\u001b[0m 50ms/step - accuracy: 0.1099 - loss: 2.3889\n",
            "Epoch 43: val_accuracy did not improve from 0.10660\n",
            "\u001b[1m28/28\u001b[0m \u001b[32m━━━━━━━━━━━━━━━━━━━━\u001b[0m\u001b[37m\u001b[0m \u001b[1m1s\u001b[0m 51ms/step - accuracy: 0.1099 - loss: 2.3890 - val_accuracy: 0.1066 - val_loss: 2.3941\n",
            "Epoch 44/50\n",
            "\u001b[1m27/28\u001b[0m \u001b[32m━━━━━━━━━━━━━━━━━━━\u001b[0m\u001b[37m━\u001b[0m \u001b[1m0s\u001b[0m 51ms/step - accuracy: 0.1066 - loss: 2.3922\n",
            "Epoch 44: val_accuracy did not improve from 0.10660\n",
            "\u001b[1m28/28\u001b[0m \u001b[32m━━━━━━━━━━━━━━━━━━━━\u001b[0m\u001b[37m\u001b[0m \u001b[1m3s\u001b[0m 53ms/step - accuracy: 0.1066 - loss: 2.3921 - val_accuracy: 0.1066 - val_loss: 2.3932\n",
            "Epoch 45/50\n",
            "\u001b[1m27/28\u001b[0m \u001b[32m━━━━━━━━━━━━━━━━━━━\u001b[0m\u001b[37m━\u001b[0m \u001b[1m0s\u001b[0m 52ms/step - accuracy: 0.1133 - loss: 2.3893\n",
            "Epoch 45: val_accuracy did not improve from 0.10660\n",
            "\u001b[1m28/28\u001b[0m \u001b[32m━━━━━━━━━━━━━━━━━━━━\u001b[0m\u001b[37m\u001b[0m \u001b[1m2s\u001b[0m 55ms/step - accuracy: 0.1139 - loss: 2.3894 - val_accuracy: 0.1066 - val_loss: 2.3933\n",
            "Epoch 46/50\n",
            "\u001b[1m27/28\u001b[0m \u001b[32m━━━━━━━━━━━━━━━━━━━\u001b[0m\u001b[37m━\u001b[0m \u001b[1m0s\u001b[0m 49ms/step - accuracy: 0.1050 - loss: 2.3949\n",
            "Epoch 46: val_accuracy did not improve from 0.10660\n",
            "\u001b[1m28/28\u001b[0m \u001b[32m━━━━━━━━━━━━━━━━━━━━\u001b[0m\u001b[37m\u001b[0m \u001b[1m2s\u001b[0m 51ms/step - accuracy: 0.1056 - loss: 2.3946 - val_accuracy: 0.1066 - val_loss: 2.3934\n",
            "Epoch 47/50\n",
            "\u001b[1m27/28\u001b[0m \u001b[32m━━━━━━━━━━━━━━━━━━━\u001b[0m\u001b[37m━\u001b[0m \u001b[1m0s\u001b[0m 49ms/step - accuracy: 0.1228 - loss: 2.3879\n",
            "Epoch 47: val_accuracy did not improve from 0.10660\n",
            "\u001b[1m28/28\u001b[0m \u001b[32m━━━━━━━━━━━━━━━━━━━━\u001b[0m\u001b[37m\u001b[0m \u001b[1m3s\u001b[0m 52ms/step - accuracy: 0.1226 - loss: 2.3880 - val_accuracy: 0.1066 - val_loss: 2.3934\n",
            "Epoch 48/50\n",
            "\u001b[1m28/28\u001b[0m \u001b[32m━━━━━━━━━━━━━━━━━━━━\u001b[0m\u001b[37m\u001b[0m \u001b[1m0s\u001b[0m 49ms/step - accuracy: 0.1189 - loss: 2.3905\n",
            "Epoch 48: val_accuracy did not improve from 0.10660\n",
            "\u001b[1m28/28\u001b[0m \u001b[32m━━━━━━━━━━━━━━━━━━━━\u001b[0m\u001b[37m\u001b[0m \u001b[1m3s\u001b[0m 51ms/step - accuracy: 0.1189 - loss: 2.3905 - val_accuracy: 0.1066 - val_loss: 2.3929\n",
            "Epoch 49/50\n",
            "\u001b[1m28/28\u001b[0m \u001b[32m━━━━━━━━━━━━━━━━━━━━\u001b[0m\u001b[37m\u001b[0m \u001b[1m0s\u001b[0m 49ms/step - accuracy: 0.1262 - loss: 2.3861\n",
            "Epoch 49: val_accuracy did not improve from 0.10660\n",
            "\u001b[1m28/28\u001b[0m \u001b[32m━━━━━━━━━━━━━━━━━━━━\u001b[0m\u001b[37m\u001b[0m \u001b[1m3s\u001b[0m 52ms/step - accuracy: 0.1261 - loss: 2.3863 - val_accuracy: 0.1066 - val_loss: 2.3930\n",
            "Epoch 50/50\n",
            "\u001b[1m27/28\u001b[0m \u001b[32m━━━━━━━━━━━━━━━━━━━\u001b[0m\u001b[37m━\u001b[0m \u001b[1m0s\u001b[0m 51ms/step - accuracy: 0.1100 - loss: 2.3880\n",
            "Epoch 50: val_accuracy did not improve from 0.10660\n",
            "\u001b[1m28/28\u001b[0m \u001b[32m━━━━━━━━━━━━━━━━━━━━\u001b[0m\u001b[37m\u001b[0m \u001b[1m1s\u001b[0m 53ms/step - accuracy: 0.1100 - loss: 2.3882 - val_accuracy: 0.1066 - val_loss: 2.3925\n",
            "\u001b[1m16/16\u001b[0m \u001b[32m━━━━━━━━━━━━━━━━━━━━\u001b[0m\u001b[37m\u001b[0m \u001b[1m3s\u001b[0m 84ms/step - accuracy: 0.0874 - loss: 2.3983\n",
            "Test Accuracy is 0.10794297605752945\n"
          ]
        }
      ]
    },
    {
      "cell_type": "code",
      "source": [
        "#GoogleNet Accuracy\n",
        "# Load the saved model\n",
        "from tensorflow.keras.models import load_model\n",
        "googlenet_model = load_model('/content/drive/MyDrive/auddsavedfiles/models/googlenet_model_audio.keras')\n",
        "\n",
        "# Evaluate the model\n",
        "test_accuracy = googlenet_model.evaluate(x_test, test_y)\n",
        "print(\"Test Accuracy is\", test_accuracy[1])\n"
      ],
      "metadata": {
        "id": "DvKcyu_cwvct",
        "outputId": "25b2d6aa-eb4c-40e3-8f19-ea5d63ab2739",
        "colab": {
          "base_uri": "https://localhost:8080/"
        }
      },
      "execution_count": 18,
      "outputs": [
        {
          "output_type": "stream",
          "name": "stdout",
          "text": [
            "\u001b[1m16/16\u001b[0m \u001b[32m━━━━━━━━━━━━━━━━━━━━\u001b[0m\u001b[37m\u001b[0m \u001b[1m1s\u001b[0m 40ms/step - accuracy: 0.0874 - loss: 2.4012\n",
            "Test Accuracy is 0.10794297605752945\n"
          ]
        }
      ]
    }
  ]
}