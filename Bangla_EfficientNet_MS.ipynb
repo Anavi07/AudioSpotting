{
  "nbformat": 4,
  "nbformat_minor": 0,
  "metadata": {
    "colab": {
      "provenance": [],
      "include_colab_link": true
    },
    "kernelspec": {
      "name": "python3",
      "display_name": "Python 3"
    },
    "language_info": {
      "name": "python"
    },
    "accelerator": "GPU"
  },
  "cells": [
    {
      "cell_type": "markdown",
      "metadata": {
        "id": "view-in-github",
        "colab_type": "text"
      },
      "source": [
        "<a href=\"https://colab.research.google.com/github/Anavi07/AudioSpotting/blob/main/Bangla_EfficientNet_MS.ipynb\" target=\"_parent\"><img src=\"https://colab.research.google.com/assets/colab-badge.svg\" alt=\"Open In Colab\"/></a>"
      ]
    },
    {
      "cell_type": "code",
      "execution_count": 1,
      "metadata": {
        "colab": {
          "base_uri": "https://localhost:8080/"
        },
        "id": "rcHdBfeFdC47",
        "outputId": "00d01686-883a-4e97-cfe9-3874b7a14700"
      },
      "outputs": [
        {
          "output_type": "stream",
          "name": "stdout",
          "text": [
            "Mounted at /content/drive\n"
          ]
        }
      ],
      "source": [
        "import matplotlib.pyplot as plt\n",
        "from scipy import signal\n",
        "from scipy.io import wavfile\n",
        "import os\n",
        "import numpy as np\n",
        "import librosa\n",
        "import librosa.display\n",
        "import matplotlib.pyplot as plt\n",
        "import numpy as np\n",
        "import cv2\n",
        "import warnings\n",
        "warnings.filterwarnings(\"ignore\")\n",
        "\n",
        "from google.colab import drive\n",
        "drive.mount('/content/drive')"
      ]
    },
    {
      "cell_type": "code",
      "source": [
        "import tensorflow as tf\n",
        "device_name = tf.test.gpu_device_name()\n",
        "if device_name != '/device:GPU:0':\n",
        "  raise SystemError('GPU device not found')\n",
        "print('Found GPU at: {}'.format(device_name))"
      ],
      "metadata": {
        "colab": {
          "base_uri": "https://localhost:8080/"
        },
        "id": "_tZ1TxfO9Y56",
        "outputId": "72e64ef9-e65d-4338-9f3d-cdb2428d68e5"
      },
      "execution_count": 2,
      "outputs": [
        {
          "output_type": "stream",
          "name": "stdout",
          "text": [
            "Found GPU at: /device:GPU:0\n"
          ]
        }
      ]
    },
    {
      "cell_type": "code",
      "source": [
        "# Paths\n",
        "main_dir = '/content/Bangla-Number-Recognition-CNN'  # Path to FSDD\n",
        "files_path = '/content/drive/MyDrive/bangla'  # Save processed data\n",
        "\n",
        "if not os.path.exists(files_path):\n",
        "    os.makedirs(files_path)\n",
        "\n",
        "# Clone the dataset if not already cloned\n",
        "if not os.path.exists(main_dir):\n",
        "    !git clone https://github.com/ClockWorkKid/Bangla-Number-Recognition-CNN\n"
      ],
      "metadata": {
        "id": "bLDsYacZMs6q",
        "outputId": "1860640a-21c3-429a-8950-7d88ec9b5ee2",
        "colab": {
          "base_uri": "https://localhost:8080/"
        }
      },
      "execution_count": 3,
      "outputs": [
        {
          "output_type": "stream",
          "name": "stdout",
          "text": [
            "Cloning into 'Bangla-Number-Recognition-CNN'...\n",
            "remote: Enumerating objects: 2699, done.\u001b[K\n",
            "remote: Total 2699 (delta 0), reused 0 (delta 0), pack-reused 2699 (from 1)\u001b[K\n",
            "Receiving objects: 100% (2699/2699), 85.13 MiB | 38.45 MiB/s, done.\n",
            "Resolving deltas: 100% (60/60), done.\n"
          ]
        }
      ]
    },
    {
      "cell_type": "code",
      "source": [
        "# PROCESSING\n",
        "# Feature extraction methods\n",
        "\n",
        "# def CalculateZeroCrossingRate(file_location):\n",
        "#     y, sr = librosa.load(file_location)\n",
        "#     zCross = librosa.feature.zero_crossing_rate(y=y)\n",
        "#     dim = (32, 32)\n",
        "#     resized = cv2.resize(zCross, dim, interpolation = cv2.INTER_AREA)\n",
        "#     return resized\n",
        "\n",
        "def CalculateMelSpectrogram(file_location):\n",
        "    y, sr = librosa.load(file_location)\n",
        "    melSpec = librosa.feature.melspectrogram(y=y, sr=sr)\n",
        "    melSpec_dB = librosa.power_to_db(melSpec)\n",
        "    dim = (32, 32)\n",
        "    resized = cv2.resize(melSpec_dB, dim, interpolation = cv2.INTER_AREA)\n",
        "    return resized\n",
        "\n",
        "\n",
        "def CalculateMFCC(file_location):\n",
        "    y, sr = librosa.load(file_location)\n",
        "    melSpec = librosa.feature.mfcc(y=y, sr=sr)\n",
        "    dim = (32, 32)\n",
        "    resized = cv2.resize(melSpec, dim, interpolation = cv2.INTER_AREA)\n",
        "    return resized\n",
        "\n"
      ],
      "metadata": {
        "id": "wSSuTUoKdZYD"
      },
      "execution_count": 4,
      "outputs": []
    },
    {
      "cell_type": "code",
      "source": [
        "cd /content"
      ],
      "metadata": {
        "colab": {
          "base_uri": "https://localhost:8080/"
        },
        "id": "7gQiVbsAfsgj",
        "outputId": "453e9234-02d9-4cfb-bbfc-15d99dc6ad7d"
      },
      "execution_count": 5,
      "outputs": [
        {
          "output_type": "stream",
          "name": "stdout",
          "text": [
            "/content\n"
          ]
        }
      ]
    },
    {
      "cell_type": "code",
      "source": [
        "'''for i in range(10):\n",
        "  j = '/content/dataset'\n",
        "  print(os.listdir(j))\n",
        "  for k in os.listdir(j):\n",
        "    print(k)\n",
        "    if \".DS_\" in k:\n",
        "      continue\n",
        "\n",
        "    for t in os.listdir(j+\"/\"+k):\n",
        "      #print(\"path = \", os.listdir(j+\"/\"+k))\n",
        "      if \".DS_\" in k:\n",
        "        continue\n",
        "      print(t.split(\"WA\")[1].split(\".\")[0])\n",
        "      #print(t.split(\"D\")[1][0])\n",
        "      break\n",
        "    break\n",
        "  break '''"
      ],
      "metadata": {
        "colab": {
          "base_uri": "https://localhost:8080/",
          "height": 72
        },
        "id": "0BZCldknfBtv",
        "outputId": "8800eec0-5031-495c-9374-7f8108450497"
      },
      "execution_count": null,
      "outputs": [
        {
          "output_type": "execute_result",
          "data": {
            "text/plain": [
              "'for i in range(10):\\n  j = \\'/content/dataset\\'\\n  print(os.listdir(j))\\n  for k in os.listdir(j):\\n    print(k)\\n    if \".DS_\" in k:\\n      continue\\n\\n    for t in os.listdir(j+\"/\"+k):\\n      #print(\"path = \", os.listdir(j+\"/\"+k))\\n      if \".DS_\" in k:\\n        continue\\n      print(t.split(\"WA\")[1].split(\".\")[0])\\n      #print(t.split(\"D\")[1][0])\\n      break\\n    break\\n  break '"
            ],
            "application/vnd.google.colaboratory.intrinsic+json": {
              "type": "string"
            }
          },
          "metadata": {},
          "execution_count": 6
        }
      ]
    },
    {
      "cell_type": "code",
      "source": [
        "import os\n",
        "import numpy as np\n",
        "\n",
        "# Paths\n",
        "main_dir = '/content/Bangla-Number-Recognition-CNN'  # Path to the main dataset folder\n",
        "recordings_dir = os.path.join(main_dir, 'Dataset/Dataset_sorted')  # Path to the Dataset_sorted folder\n",
        "files_path = '/content/drive/MyDrive/bangla'  # Save processed data\n",
        "\n",
        "# Ensure output directory exists\n",
        "if not os.path.exists(files_path):\n",
        "    os.makedirs(files_path)\n",
        "\n",
        "# Processing\n",
        "x = []\n",
        "y = []\n",
        "\n",
        "# Loop through each label directory (0, 1, ..., 9, noise)\n",
        "for label_dir in os.listdir(recordings_dir):\n",
        "    label_path = os.path.join(recordings_dir, label_dir)\n",
        "\n",
        "    # Ensure it's a directory\n",
        "    if not os.path.isdir(label_path):\n",
        "        continue\n",
        "\n",
        "    # Process files within the label directory\n",
        "    for file_name in os.listdir(label_path):\n",
        "        if not file_name.endswith('.wav'):  # Skip non-wav files\n",
        "            continue\n",
        "\n",
        "        file_path = os.path.join(label_path, file_name)\n",
        "\n",
        "        try:\n",
        "            # Extract Mel Spectrogram features\n",
        "            x.append(CalculateMelSpectrogram(file_path))\n",
        "\n",
        "            # Use directory name as label (e.g., '0', '1', ..., 'noise')\n",
        "            label = int(label_dir) if label_dir.isdigit() else 10  # Assign 10 for 'noise'\n",
        "            y.append(label)\n",
        "        except Exception as e:\n",
        "            print(f\"Error processing {file_name}: {e}\")\n",
        "\n",
        "# Convert to NumPy arrays\n",
        "x = np.array(x)\n",
        "y = np.array(y)\n",
        "\n",
        "# Verify data\n",
        "if x.size == 0 or y.size == 0:\n",
        "    raise ValueError(\"No data was processed. Check dataset structure and feature extraction.\")\n",
        "\n",
        "# Save processed data\n",
        "np.save(os.path.join(files_path, \"X_melspectrogram.npy\"), x)\n",
        "np.save(os.path.join(files_path, \"Y_melspectrogram.npy\"), y)\n",
        "\n",
        "print(f\"Processing completed. Processed data saved in {files_path}.\")\n"
      ],
      "metadata": {
        "id": "93SlL0cW8ntr",
        "outputId": "2a58ee16-ddca-44c7-e842-e08eb6a288b0",
        "colab": {
          "base_uri": "https://localhost:8080/"
        }
      },
      "execution_count": 6,
      "outputs": [
        {
          "output_type": "stream",
          "name": "stdout",
          "text": [
            "Processing completed. Processed data saved in /content/drive/MyDrive/bangla.\n"
          ]
        }
      ]
    },
    {
      "cell_type": "code",
      "source": [
        "#load files\n",
        "files_path = '/content/drive/MyDrive/bangla'  # Save processed data\n",
        "\n",
        "x_melspectrogram = np.load(files_path+\"/X_melspectrogram.npy\", allow_pickle=True)\n",
        "# x_zero_crossing_rate = np.load(files_path+\"/X_zero_crossing_rate.npy\", allow_pickle=True)\n",
        "#x_mfcc = np.load(files_path+\"/X_mfcc.npy\", allow_pickle=True)\n",
        "y_melspectrogram = np.load(files_path+\"/Y_melspectrogram.npy\", allow_pickle=True)\n",
        "# y_zero_crossing_rate = np.load(files_path+\"/y_zero_crossing_rate.npy\", allow_pickle=True)\n",
        "#y_mfcc = np.load(files_path+\"/Y_mfcc.npy\", allow_pickle=True)"
      ],
      "metadata": {
        "id": "MQi3OLjocbH3"
      },
      "execution_count": 7,
      "outputs": []
    },
    {
      "cell_type": "code",
      "source": [
        "# #Split data into train and test\n",
        "\n",
        "# from sklearn.model_selection import train_test_split\n",
        "# x = x_mfcc\n",
        "# y = y_mfcc\n",
        "\n",
        "# x_train, x_test, y_train, y_test = train_test_split(x, y, test_size=0.20, random_state=42)\n",
        "# np.save(files_path+\"/x_mfcc_train\",x_train)\n",
        "# np.save(files_path+\"/y_mfcc_train\",y_train)\n",
        "# np.save(files_path+\"/x_mfcc_test\",x_test)\n",
        "# np.save(files_path+\"/y_mfcc_test\",y_test)"
      ],
      "metadata": {
        "id": "mggTLnkMbQ9h"
      },
      "execution_count": null,
      "outputs": []
    },
    {
      "cell_type": "code",
      "source": [
        "from sklearn.model_selection import train_test_split\n",
        "x = x_melspectrogram\n",
        "y = y_melspectrogram\n",
        "\n",
        "x_train, x_test, y_train, y_test = train_test_split(x, y, test_size=0.20, random_state=42)\n",
        "np.save(files_path+\"/x_melspectrogram_train\",x_train)\n",
        "np.save(files_path+\"/y_melspectrogram_train\",y_train)\n",
        "np.save(files_path+\"/x_melspectrogram_test\",x_test)\n",
        "np.save(files_path+\"/y_melspectrogram_test\",y_test)"
      ],
      "metadata": {
        "id": "hIDdNB7PT38n"
      },
      "execution_count": 8,
      "outputs": []
    },
    {
      "cell_type": "code",
      "source": [
        "\n",
        "# from sklearn.model_selection import train_test_split\n",
        "# x = x_zero_crossing_rate\n",
        "# y = y_zero_crossing_rate\n",
        "\n",
        "# x_train, x_test, y_train, y_test = train_test_split(x, y, test_size=0.20, random_state=42)\n",
        "# np.save(files_path+\"/x_zero_crossing_rate_train\",x_train)\n",
        "# np.save(files_path+\"/y_zero_crossing_rate_train\",y_train)\n",
        "# np.save(files_path+\"/x_zero_crossing_rate_test\",x_test)\n",
        "# np.save(files_path+\"/y_zero_crossing_rate_test\",y_test)"
      ],
      "metadata": {
        "id": "Xay2hhdbT6Es"
      },
      "execution_count": null,
      "outputs": []
    },
    {
      "cell_type": "code",
      "source": [
        "import tensorflow as tf\n",
        "import numpy as np\n",
        "\n",
        "files_path = '/content/drive/MyDrive/bangla'\n",
        "\n",
        "features = ['melspectrogram', 'mfcc', 'zero_crossing_rate']\n",
        "\n",
        "x_train = np.load(files_path+\"/x_{}_train.npy\".format(features[0]), allow_pickle=True)\n",
        "y_train = np.load(files_path+\"/y_{}_train.npy\".format(features[0]), allow_pickle=True)\n",
        "\n",
        "x_test = np.load(files_path+\"/x_{}_test.npy\".format(features[0]),allow_pickle=True)\n",
        "y_test = np.load(files_path+\"/y_{}_test.npy\".format(features[0]),allow_pickle=True)"
      ],
      "metadata": {
        "id": "4sTIOC0DToyj"
      },
      "execution_count": 9,
      "outputs": []
    },
    {
      "cell_type": "code",
      "source": [],
      "metadata": {
        "id": "a-jmqade0XfB"
      },
      "execution_count": null,
      "outputs": []
    },
    {
      "cell_type": "code",
      "source": [
        "print(np.unique(y_melspectrogram))"
      ],
      "metadata": {
        "colab": {
          "base_uri": "https://localhost:8080/"
        },
        "id": "elOv-AAYmZo_",
        "outputId": "1ed5f99c-1cdf-40e2-eb51-58a397801649"
      },
      "execution_count": 10,
      "outputs": [
        {
          "output_type": "stream",
          "name": "stdout",
          "text": [
            "[ 0  1  2  3  4  5  6  7  8  9 10]\n"
          ]
        }
      ]
    },
    {
      "cell_type": "code",
      "source": [
        "x_train =x_train.reshape((x_train.shape[0],32,32,1))\n",
        "x_test =x_test.reshape((x_test.shape[0],32,32,1))"
      ],
      "metadata": {
        "id": "HNPZQvHEeZVS"
      },
      "execution_count": 11,
      "outputs": []
    },
    {
      "cell_type": "code",
      "source": [
        "x_train = x_train.reshape(-1, 32, 32, 1)  # Reshape to match the input shape of the model\n",
        "x_test = x_test.reshape(-1, 32, 32, 1)    # Reshape for testing\n",
        "train_y = tf.keras.utils.to_categorical(y_train, num_classes=11)  # One-hot encode\n",
        "test_y = tf.keras.utils.to_categorical(y_test, num_classes=11)    # One-hot encode\n"
      ],
      "metadata": {
        "id": "0JbGx-WgVVPQ"
      },
      "execution_count": 12,
      "outputs": []
    },
    {
      "cell_type": "code",
      "source": [
        "print(\"Shape of x_train:\", x_train.shape)\n",
        "print(\"Shape of x_test:\", x_test.shape)\n"
      ],
      "metadata": {
        "id": "4PBvBFQJXPvF",
        "outputId": "c7463f5f-a414-424e-cfe8-fb4669ba6688",
        "colab": {
          "base_uri": "https://localhost:8080/"
        }
      },
      "execution_count": 13,
      "outputs": [
        {
          "output_type": "stream",
          "name": "stdout",
          "text": [
            "Shape of x_train: (1961, 32, 32, 1)\n",
            "Shape of x_test: (491, 32, 32, 1)\n"
          ]
        }
      ]
    },
    {
      "cell_type": "code",
      "source": [
        "print(\"Min value in x_train:\", x_train.min())\n",
        "print(\"Max value in x_train:\", x_train.max())\n"
      ],
      "metadata": {
        "id": "KPiAeQqSXmEZ",
        "outputId": "f5e261a4-79fa-4470-dc35-d835bdc90d8f",
        "colab": {
          "base_uri": "https://localhost:8080/"
        }
      },
      "execution_count": 14,
      "outputs": [
        {
          "output_type": "stream",
          "name": "stdout",
          "text": [
            "Min value in x_train: -100.00001\n",
            "Max value in x_train: 36.15473\n"
          ]
        }
      ]
    },
    {
      "cell_type": "code",
      "source": [
        "# Normalize x_train and x_test to the range [0, 1]\n",
        "x_train = (x_train - x_train.min()) / (x_train.max() - x_train.min())\n",
        "x_test = (x_test - x_test.min()) / (x_test.max() - x_test.min())\n"
      ],
      "metadata": {
        "id": "_yd1GQgOXyQD"
      },
      "execution_count": 15,
      "outputs": []
    },
    {
      "cell_type": "markdown",
      "source": [
        "## Train Model"
      ],
      "metadata": {
        "id": "2o-1LnghejML"
      }
    },
    {
      "cell_type": "code",
      "source": [
        "#EfficientNet\n",
        "\n",
        "import tensorflow as tf\n",
        "from tensorflow.keras import layers, models\n",
        "from tensorflow.keras.applications import EfficientNetB0\n",
        "\n",
        "# Define EfficientNet model for audio data\n",
        "def GetEfficientNet(input_shape=(32, 32, 1)):\n",
        "    # Load EfficientNetB0 as base, without top classification layers\n",
        "    base_model = EfficientNetB0(\n",
        "        include_top=False,\n",
        "        input_shape=(32, 32, 3),  # EfficientNet requires 3 channels\n",
        "        weights=None  # Training from scratch\n",
        "    )\n",
        "    base_model.trainable = True  # Allow fine-tuning\n",
        "\n",
        "    # Add custom layers on top\n",
        "    model = models.Sequential([\n",
        "        layers.InputLayer(input_shape=input_shape),  # Accept audio input shape\n",
        "        layers.Conv2D(3, (1, 1), activation='relu'),  # Convert single-channel to 3-channel\n",
        "        base_model,\n",
        "        layers.GlobalAveragePooling2D(),  # Pooling layer to reduce spatial dimensions\n",
        "        layers.Dropout(0.5),  # Regularization\n",
        "        layers.Dense(256, activation='relu'),  # Fully connected layer\n",
        "        layers.Dropout(0.5),  # Regularization\n",
        "        layers.Dense(11, activation='softmax')  # Output layer for 10 classes\n",
        "    ])\n",
        "\n",
        "    return model\n",
        "\n",
        "# Preprocess the audio data (assumed to be MFCC or spectrogram)\n",
        "# x_train and x_test must be 2D arrays representing audio features\n",
        "x_train = x_train.reshape(-1, 32, 32, 1)  # Reshape to match input shape\n",
        "x_test = x_test.reshape(-1, 32, 32, 1)    # Same for test data\n",
        "\n",
        "# Normalize the audio data\n",
        "x_train = x_train / 255.0\n",
        "x_test = x_test / 255.0\n",
        "\n",
        "# One-hot encode the labels for 10-class classification\n",
        "train_y = tf.keras.utils.to_categorical(y_train, num_classes=11)\n",
        "test_y = tf.keras.utils.to_categorical(y_test, num_classes=11)\n",
        "\n",
        "# Compile the EfficientNet model\n",
        "efficientnet_model = GetEfficientNet(input_shape=(32, 32, 1))\n",
        "efficientnet_model.compile(\n",
        "    loss=tf.keras.losses.CategoricalCrossentropy(),\n",
        "    metrics=[\"accuracy\"],\n",
        "    optimizer=tf.keras.optimizers.Adam(learning_rate=0.001)  # Lower learning rate\n",
        ")\n",
        "\n",
        "# Define callback for saving the best model\n",
        "callbacks = tf.keras.callbacks.ModelCheckpoint(\n",
        "    filepath='/content/drive/MyDrive/auddsavedfiles/models/efficientnet_model_audio.keras',\n",
        "    monitor='val_accuracy',\n",
        "    mode='max',\n",
        "    save_best_only=True,\n",
        "    verbose=1\n",
        ")\n",
        "\n",
        "# Train the model\n",
        "history = efficientnet_model.fit(\n",
        "    x_train, train_y,\n",
        "    batch_size=64,\n",
        "    epochs=50,\n",
        "    verbose=1,\n",
        "    validation_split=0.1,\n",
        "    callbacks=[callbacks]\n",
        ")\n",
        "\n",
        "\n"
      ],
      "metadata": {
        "id": "SHNjAcecWgx6",
        "outputId": "2656e9a5-8749-464a-ad83-b0ef41ab6378",
        "colab": {
          "base_uri": "https://localhost:8080/"
        }
      },
      "execution_count": 17,
      "outputs": [
        {
          "output_type": "stream",
          "name": "stdout",
          "text": [
            "Epoch 1/50\n",
            "\u001b[1m28/28\u001b[0m \u001b[32m━━━━━━━━━━━━━━━━━━━━\u001b[0m\u001b[37m\u001b[0m \u001b[1m0s\u001b[0m 1s/step - accuracy: 0.0860 - loss: 3.1159  \n",
            "Epoch 1: val_accuracy improved from -inf to 0.10152, saving model to /content/drive/MyDrive/auddsavedfiles/models/efficientnet_model_audio.keras\n",
            "\u001b[1m28/28\u001b[0m \u001b[32m━━━━━━━━━━━━━━━━━━━━\u001b[0m\u001b[37m\u001b[0m \u001b[1m128s\u001b[0m 2s/step - accuracy: 0.0863 - loss: 3.1119 - val_accuracy: 0.1015 - val_loss: 2.4003\n",
            "Epoch 2/50\n",
            "\u001b[1m28/28\u001b[0m \u001b[32m━━━━━━━━━━━━━━━━━━━━\u001b[0m\u001b[37m\u001b[0m \u001b[1m0s\u001b[0m 23ms/step - accuracy: 0.0971 - loss: 2.7474\n",
            "Epoch 2: val_accuracy did not improve from 0.10152\n",
            "\u001b[1m28/28\u001b[0m \u001b[32m━━━━━━━━━━━━━━━━━━━━\u001b[0m\u001b[37m\u001b[0m \u001b[1m49s\u001b[0m 26ms/step - accuracy: 0.0974 - loss: 2.7453 - val_accuracy: 0.1015 - val_loss: 2.3989\n",
            "Epoch 3/50\n",
            "\u001b[1m28/28\u001b[0m \u001b[32m━━━━━━━━━━━━━━━━━━━━\u001b[0m\u001b[37m\u001b[0m \u001b[1m0s\u001b[0m 18ms/step - accuracy: 0.1239 - loss: 2.5435\n",
            "Epoch 3: val_accuracy did not improve from 0.10152\n",
            "\u001b[1m28/28\u001b[0m \u001b[32m━━━━━━━━━━━━━━━━━━━━\u001b[0m\u001b[37m\u001b[0m \u001b[1m1s\u001b[0m 20ms/step - accuracy: 0.1234 - loss: 2.5438 - val_accuracy: 0.1015 - val_loss: 2.3959\n",
            "Epoch 4/50\n",
            "\u001b[1m26/28\u001b[0m \u001b[32m━━━━━━━━━━━━━━━━━━\u001b[0m\u001b[37m━━\u001b[0m \u001b[1m0s\u001b[0m 24ms/step - accuracy: 0.1080 - loss: 2.5040\n",
            "Epoch 4: val_accuracy did not improve from 0.10152\n",
            "\u001b[1m28/28\u001b[0m \u001b[32m━━━━━━━━━━━━━━━━━━━━\u001b[0m\u001b[37m\u001b[0m \u001b[1m1s\u001b[0m 28ms/step - accuracy: 0.1081 - loss: 2.5034 - val_accuracy: 0.1015 - val_loss: 2.3919\n",
            "Epoch 5/50\n",
            "\u001b[1m26/28\u001b[0m \u001b[32m━━━━━━━━━━━━━━━━━━\u001b[0m\u001b[37m━━\u001b[0m \u001b[1m0s\u001b[0m 25ms/step - accuracy: 0.1102 - loss: 2.4751\n",
            "Epoch 5: val_accuracy improved from 0.10152 to 0.10660, saving model to /content/drive/MyDrive/auddsavedfiles/models/efficientnet_model_audio.keras\n",
            "\u001b[1m28/28\u001b[0m \u001b[32m━━━━━━━━━━━━━━━━━━━━\u001b[0m\u001b[37m\u001b[0m \u001b[1m3s\u001b[0m 74ms/step - accuracy: 0.1095 - loss: 2.4732 - val_accuracy: 0.1066 - val_loss: 2.3972\n",
            "Epoch 6/50\n",
            "\u001b[1m26/28\u001b[0m \u001b[32m━━━━━━━━━━━━━━━━━━\u001b[0m\u001b[37m━━\u001b[0m \u001b[1m0s\u001b[0m 21ms/step - accuracy: 0.1077 - loss: 2.4392\n",
            "Epoch 6: val_accuracy did not improve from 0.10660\n",
            "\u001b[1m28/28\u001b[0m \u001b[32m━━━━━━━━━━━━━━━━━━━━\u001b[0m\u001b[37m\u001b[0m \u001b[1m1s\u001b[0m 24ms/step - accuracy: 0.1070 - loss: 2.4392 - val_accuracy: 0.1066 - val_loss: 2.3932\n",
            "Epoch 7/50\n",
            "\u001b[1m28/28\u001b[0m \u001b[32m━━━━━━━━━━━━━━━━━━━━\u001b[0m\u001b[37m\u001b[0m \u001b[1m0s\u001b[0m 19ms/step - accuracy: 0.0970 - loss: 2.4395\n",
            "Epoch 7: val_accuracy did not improve from 0.10660\n",
            "\u001b[1m28/28\u001b[0m \u001b[32m━━━━━━━━━━━━━━━━━━━━\u001b[0m\u001b[37m\u001b[0m \u001b[1m1s\u001b[0m 23ms/step - accuracy: 0.0972 - loss: 2.4393 - val_accuracy: 0.1015 - val_loss: 2.3994\n",
            "Epoch 8/50\n",
            "\u001b[1m28/28\u001b[0m \u001b[32m━━━━━━━━━━━━━━━━━━━━\u001b[0m\u001b[37m\u001b[0m \u001b[1m0s\u001b[0m 18ms/step - accuracy: 0.0984 - loss: 2.4138\n",
            "Epoch 8: val_accuracy did not improve from 0.10660\n",
            "\u001b[1m28/28\u001b[0m \u001b[32m━━━━━━━━━━━━━━━━━━━━\u001b[0m\u001b[37m\u001b[0m \u001b[1m1s\u001b[0m 20ms/step - accuracy: 0.0982 - loss: 2.4141 - val_accuracy: 0.1015 - val_loss: 2.3889\n",
            "Epoch 9/50\n",
            "\u001b[1m28/28\u001b[0m \u001b[32m━━━━━━━━━━━━━━━━━━━━\u001b[0m\u001b[37m\u001b[0m \u001b[1m0s\u001b[0m 19ms/step - accuracy: 0.0999 - loss: 2.4148\n",
            "Epoch 9: val_accuracy did not improve from 0.10660\n",
            "\u001b[1m28/28\u001b[0m \u001b[32m━━━━━━━━━━━━━━━━━━━━\u001b[0m\u001b[37m\u001b[0m \u001b[1m1s\u001b[0m 22ms/step - accuracy: 0.0998 - loss: 2.4145 - val_accuracy: 0.1066 - val_loss: 2.3956\n",
            "Epoch 10/50\n",
            "\u001b[1m28/28\u001b[0m \u001b[32m━━━━━━━━━━━━━━━━━━━━\u001b[0m\u001b[37m\u001b[0m \u001b[1m0s\u001b[0m 18ms/step - accuracy: 0.1054 - loss: 2.4082\n",
            "Epoch 10: val_accuracy did not improve from 0.10660\n",
            "\u001b[1m28/28\u001b[0m \u001b[32m━━━━━━━━━━━━━━━━━━━━\u001b[0m\u001b[37m\u001b[0m \u001b[1m1s\u001b[0m 22ms/step - accuracy: 0.1053 - loss: 2.4083 - val_accuracy: 0.1066 - val_loss: 2.3967\n",
            "Epoch 11/50\n",
            "\u001b[1m28/28\u001b[0m \u001b[32m━━━━━━━━━━━━━━━━━━━━\u001b[0m\u001b[37m\u001b[0m \u001b[1m0s\u001b[0m 19ms/step - accuracy: 0.1121 - loss: 2.4158\n",
            "Epoch 11: val_accuracy did not improve from 0.10660\n",
            "\u001b[1m28/28\u001b[0m \u001b[32m━━━━━━━━━━━━━━━━━━━━\u001b[0m\u001b[37m\u001b[0m \u001b[1m1s\u001b[0m 21ms/step - accuracy: 0.1118 - loss: 2.4157 - val_accuracy: 0.1066 - val_loss: 2.3947\n",
            "Epoch 12/50\n",
            "\u001b[1m28/28\u001b[0m \u001b[32m━━━━━━━━━━━━━━━━━━━━\u001b[0m\u001b[37m\u001b[0m \u001b[1m0s\u001b[0m 19ms/step - accuracy: 0.1068 - loss: 2.4126\n",
            "Epoch 12: val_accuracy did not improve from 0.10660\n",
            "\u001b[1m28/28\u001b[0m \u001b[32m━━━━━━━━━━━━━━━━━━━━\u001b[0m\u001b[37m\u001b[0m \u001b[1m1s\u001b[0m 21ms/step - accuracy: 0.1065 - loss: 2.4125 - val_accuracy: 0.1015 - val_loss: 2.3932\n",
            "Epoch 13/50\n",
            "\u001b[1m28/28\u001b[0m \u001b[32m━━━━━━━━━━━━━━━━━━━━\u001b[0m\u001b[37m\u001b[0m \u001b[1m0s\u001b[0m 18ms/step - accuracy: 0.1017 - loss: 2.4036\n",
            "Epoch 13: val_accuracy did not improve from 0.10660\n",
            "\u001b[1m28/28\u001b[0m \u001b[32m━━━━━━━━━━━━━━━━━━━━\u001b[0m\u001b[37m\u001b[0m \u001b[1m1s\u001b[0m 20ms/step - accuracy: 0.1018 - loss: 2.4037 - val_accuracy: 0.1066 - val_loss: 2.3956\n",
            "Epoch 14/50\n",
            "\u001b[1m28/28\u001b[0m \u001b[32m━━━━━━━━━━━━━━━━━━━━\u001b[0m\u001b[37m\u001b[0m \u001b[1m0s\u001b[0m 19ms/step - accuracy: 0.0961 - loss: 2.4056\n",
            "Epoch 14: val_accuracy did not improve from 0.10660\n",
            "\u001b[1m28/28\u001b[0m \u001b[32m━━━━━━━━━━━━━━━━━━━━\u001b[0m\u001b[37m\u001b[0m \u001b[1m1s\u001b[0m 21ms/step - accuracy: 0.0964 - loss: 2.4056 - val_accuracy: 0.1015 - val_loss: 2.3926\n",
            "Epoch 15/50\n",
            "\u001b[1m28/28\u001b[0m \u001b[32m━━━━━━━━━━━━━━━━━━━━\u001b[0m\u001b[37m\u001b[0m \u001b[1m0s\u001b[0m 19ms/step - accuracy: 0.1141 - loss: 2.4029\n",
            "Epoch 15: val_accuracy did not improve from 0.10660\n",
            "\u001b[1m28/28\u001b[0m \u001b[32m━━━━━━━━━━━━━━━━━━━━\u001b[0m\u001b[37m\u001b[0m \u001b[1m1s\u001b[0m 22ms/step - accuracy: 0.1140 - loss: 2.4029 - val_accuracy: 0.1066 - val_loss: 2.3941\n",
            "Epoch 16/50\n",
            "\u001b[1m28/28\u001b[0m \u001b[32m━━━━━━━━━━━━━━━━━━━━\u001b[0m\u001b[37m\u001b[0m \u001b[1m0s\u001b[0m 29ms/step - accuracy: 0.1202 - loss: 2.3994\n",
            "Epoch 16: val_accuracy did not improve from 0.10660\n",
            "\u001b[1m28/28\u001b[0m \u001b[32m━━━━━━━━━━━━━━━━━━━━\u001b[0m\u001b[37m\u001b[0m \u001b[1m1s\u001b[0m 32ms/step - accuracy: 0.1200 - loss: 2.3996 - val_accuracy: 0.1015 - val_loss: 2.3952\n",
            "Epoch 17/50\n",
            "\u001b[1m27/28\u001b[0m \u001b[32m━━━━━━━━━━━━━━━━━━━\u001b[0m\u001b[37m━\u001b[0m \u001b[1m0s\u001b[0m 32ms/step - accuracy: 0.1038 - loss: 2.3957\n",
            "Epoch 17: val_accuracy did not improve from 0.10660\n",
            "\u001b[1m28/28\u001b[0m \u001b[32m━━━━━━━━━━━━━━━━━━━━\u001b[0m\u001b[37m\u001b[0m \u001b[1m1s\u001b[0m 35ms/step - accuracy: 0.1049 - loss: 2.3958 - val_accuracy: 0.1066 - val_loss: 2.3984\n",
            "Epoch 18/50\n",
            "\u001b[1m27/28\u001b[0m \u001b[32m━━━━━━━━━━━━━━━━━━━\u001b[0m\u001b[37m━\u001b[0m \u001b[1m0s\u001b[0m 21ms/step - accuracy: 0.1056 - loss: 2.3987\n",
            "Epoch 18: val_accuracy did not improve from 0.10660\n",
            "\u001b[1m28/28\u001b[0m \u001b[32m━━━━━━━━━━━━━━━━━━━━\u001b[0m\u001b[37m\u001b[0m \u001b[1m1s\u001b[0m 23ms/step - accuracy: 0.1064 - loss: 2.3985 - val_accuracy: 0.0711 - val_loss: 2.7251\n",
            "Epoch 19/50\n",
            "\u001b[1m27/28\u001b[0m \u001b[32m━━━━━━━━━━━━━━━━━━━\u001b[0m\u001b[37m━\u001b[0m \u001b[1m0s\u001b[0m 24ms/step - accuracy: 0.1127 - loss: 2.4065\n",
            "Epoch 19: val_accuracy did not improve from 0.10660\n",
            "\u001b[1m28/28\u001b[0m \u001b[32m━━━━━━━━━━━━━━━━━━━━\u001b[0m\u001b[37m\u001b[0m \u001b[1m1s\u001b[0m 28ms/step - accuracy: 0.1124 - loss: 2.4061 - val_accuracy: 0.1066 - val_loss: 2.3948\n",
            "Epoch 20/50\n",
            "\u001b[1m28/28\u001b[0m \u001b[32m━━━━━━━━━━━━━━━━━━━━\u001b[0m\u001b[37m\u001b[0m \u001b[1m0s\u001b[0m 26ms/step - accuracy: 0.1264 - loss: 2.3974\n",
            "Epoch 20: val_accuracy did not improve from 0.10660\n",
            "\u001b[1m28/28\u001b[0m \u001b[32m━━━━━━━━━━━━━━━━━━━━\u001b[0m\u001b[37m\u001b[0m \u001b[1m1s\u001b[0m 30ms/step - accuracy: 0.1262 - loss: 2.3973 - val_accuracy: 0.1066 - val_loss: 2.3945\n",
            "Epoch 21/50\n",
            "\u001b[1m26/28\u001b[0m \u001b[32m━━━━━━━━━━━━━━━━━━\u001b[0m\u001b[37m━━\u001b[0m \u001b[1m0s\u001b[0m 26ms/step - accuracy: 0.0976 - loss: 2.4012\n",
            "Epoch 21: val_accuracy did not improve from 0.10660\n",
            "\u001b[1m28/28\u001b[0m \u001b[32m━━━━━━━━━━━━━━━━━━━━\u001b[0m\u001b[37m\u001b[0m \u001b[1m1s\u001b[0m 28ms/step - accuracy: 0.0988 - loss: 2.4008 - val_accuracy: 0.1066 - val_loss: 2.3944\n",
            "Epoch 22/50\n",
            "\u001b[1m28/28\u001b[0m \u001b[32m━━━━━━━━━━━━━━━━━━━━\u001b[0m\u001b[37m\u001b[0m \u001b[1m0s\u001b[0m 20ms/step - accuracy: 0.1100 - loss: 2.3954\n",
            "Epoch 22: val_accuracy did not improve from 0.10660\n",
            "\u001b[1m28/28\u001b[0m \u001b[32m━━━━━━━━━━━━━━━━━━━━\u001b[0m\u001b[37m\u001b[0m \u001b[1m1s\u001b[0m 22ms/step - accuracy: 0.1103 - loss: 2.3954 - val_accuracy: 0.1015 - val_loss: 3.2879\n",
            "Epoch 23/50\n",
            "\u001b[1m28/28\u001b[0m \u001b[32m━━━━━━━━━━━━━━━━━━━━\u001b[0m\u001b[37m\u001b[0m \u001b[1m0s\u001b[0m 19ms/step - accuracy: 0.1061 - loss: 2.4064\n",
            "Epoch 23: val_accuracy did not improve from 0.10660\n",
            "\u001b[1m28/28\u001b[0m \u001b[32m━━━━━━━━━━━━━━━━━━━━\u001b[0m\u001b[37m\u001b[0m \u001b[1m1s\u001b[0m 21ms/step - accuracy: 0.1065 - loss: 2.4062 - val_accuracy: 0.1066 - val_loss: 2.3945\n",
            "Epoch 24/50\n",
            "\u001b[1m28/28\u001b[0m \u001b[32m━━━━━━━━━━━━━━━━━━━━\u001b[0m\u001b[37m\u001b[0m \u001b[1m0s\u001b[0m 19ms/step - accuracy: 0.0992 - loss: 2.4024\n",
            "Epoch 24: val_accuracy did not improve from 0.10660\n",
            "\u001b[1m28/28\u001b[0m \u001b[32m━━━━━━━━━━━━━━━━━━━━\u001b[0m\u001b[37m\u001b[0m \u001b[1m1s\u001b[0m 21ms/step - accuracy: 0.0996 - loss: 2.4023 - val_accuracy: 0.1015 - val_loss: 2.4105\n",
            "Epoch 25/50\n",
            "\u001b[1m28/28\u001b[0m \u001b[32m━━━━━━━━━━━━━━━━━━━━\u001b[0m\u001b[37m\u001b[0m \u001b[1m0s\u001b[0m 20ms/step - accuracy: 0.1178 - loss: 2.3920\n",
            "Epoch 25: val_accuracy did not improve from 0.10660\n",
            "\u001b[1m28/28\u001b[0m \u001b[32m━━━━━━━━━━━━━━━━━━━━\u001b[0m\u001b[37m\u001b[0m \u001b[1m1s\u001b[0m 21ms/step - accuracy: 0.1179 - loss: 2.3921 - val_accuracy: 0.1015 - val_loss: 2.3988\n",
            "Epoch 26/50\n",
            "\u001b[1m28/28\u001b[0m \u001b[32m━━━━━━━━━━━━━━━━━━━━\u001b[0m\u001b[37m\u001b[0m \u001b[1m0s\u001b[0m 18ms/step - accuracy: 0.1120 - loss: 2.4013\n",
            "Epoch 26: val_accuracy did not improve from 0.10660\n",
            "\u001b[1m28/28\u001b[0m \u001b[32m━━━━━━━━━━━━━━━━━━━━\u001b[0m\u001b[37m\u001b[0m \u001b[1m1s\u001b[0m 20ms/step - accuracy: 0.1122 - loss: 2.4013 - val_accuracy: 0.1066 - val_loss: 2.3961\n",
            "Epoch 27/50\n",
            "\u001b[1m28/28\u001b[0m \u001b[32m━━━━━━━━━━━━━━━━━━━━\u001b[0m\u001b[37m\u001b[0m \u001b[1m0s\u001b[0m 19ms/step - accuracy: 0.1140 - loss: 2.3901\n",
            "Epoch 27: val_accuracy did not improve from 0.10660\n",
            "\u001b[1m28/28\u001b[0m \u001b[32m━━━━━━━━━━━━━━━━━━━━\u001b[0m\u001b[37m\u001b[0m \u001b[1m1s\u001b[0m 21ms/step - accuracy: 0.1139 - loss: 2.3902 - val_accuracy: 0.1015 - val_loss: 2.3984\n",
            "Epoch 28/50\n",
            "\u001b[1m28/28\u001b[0m \u001b[32m━━━━━━━━━━━━━━━━━━━━\u001b[0m\u001b[37m\u001b[0m \u001b[1m0s\u001b[0m 19ms/step - accuracy: 0.1179 - loss: 2.3975\n",
            "Epoch 28: val_accuracy did not improve from 0.10660\n",
            "\u001b[1m28/28\u001b[0m \u001b[32m━━━━━━━━━━━━━━━━━━━━\u001b[0m\u001b[37m\u001b[0m \u001b[1m1s\u001b[0m 21ms/step - accuracy: 0.1179 - loss: 2.3975 - val_accuracy: 0.1015 - val_loss: 2.4026\n",
            "Epoch 29/50\n",
            "\u001b[1m28/28\u001b[0m \u001b[32m━━━━━━━━━━━━━━━━━━━━\u001b[0m\u001b[37m\u001b[0m \u001b[1m0s\u001b[0m 18ms/step - accuracy: 0.1322 - loss: 2.3898\n",
            "Epoch 29: val_accuracy did not improve from 0.10660\n",
            "\u001b[1m28/28\u001b[0m \u001b[32m━━━━━━━━━━━━━━━━━━━━\u001b[0m\u001b[37m\u001b[0m \u001b[1m1s\u001b[0m 20ms/step - accuracy: 0.1317 - loss: 2.3899 - val_accuracy: 0.1015 - val_loss: 2.3979\n",
            "Epoch 30/50\n",
            "\u001b[1m27/28\u001b[0m \u001b[32m━━━━━━━━━━━━━━━━━━━\u001b[0m\u001b[37m━\u001b[0m \u001b[1m0s\u001b[0m 20ms/step - accuracy: 0.1148 - loss: 2.3912\n",
            "Epoch 30: val_accuracy did not improve from 0.10660\n",
            "\u001b[1m28/28\u001b[0m \u001b[32m━━━━━━━━━━━━━━━━━━━━\u001b[0m\u001b[37m\u001b[0m \u001b[1m1s\u001b[0m 21ms/step - accuracy: 0.1153 - loss: 2.3913 - val_accuracy: 0.1015 - val_loss: 2.3958\n",
            "Epoch 31/50\n",
            "\u001b[1m28/28\u001b[0m \u001b[32m━━━━━━━━━━━━━━━━━━━━\u001b[0m\u001b[37m\u001b[0m \u001b[1m0s\u001b[0m 19ms/step - accuracy: 0.1113 - loss: 2.3968\n",
            "Epoch 31: val_accuracy did not improve from 0.10660\n",
            "\u001b[1m28/28\u001b[0m \u001b[32m━━━━━━━━━━━━━━━━━━━━\u001b[0m\u001b[37m\u001b[0m \u001b[1m1s\u001b[0m 21ms/step - accuracy: 0.1114 - loss: 2.3968 - val_accuracy: 0.1066 - val_loss: 2.3949\n",
            "Epoch 32/50\n",
            "\u001b[1m28/28\u001b[0m \u001b[32m━━━━━━━━━━━━━━━━━━━━\u001b[0m\u001b[37m\u001b[0m \u001b[1m0s\u001b[0m 20ms/step - accuracy: 0.1181 - loss: 2.3917\n",
            "Epoch 32: val_accuracy did not improve from 0.10660\n",
            "\u001b[1m28/28\u001b[0m \u001b[32m━━━━━━━━━━━━━━━━━━━━\u001b[0m\u001b[37m\u001b[0m \u001b[1m1s\u001b[0m 23ms/step - accuracy: 0.1181 - loss: 2.3917 - val_accuracy: 0.1066 - val_loss: 2.3926\n",
            "Epoch 33/50\n",
            "\u001b[1m28/28\u001b[0m \u001b[32m━━━━━━━━━━━━━━━━━━━━\u001b[0m\u001b[37m\u001b[0m \u001b[1m0s\u001b[0m 19ms/step - accuracy: 0.1224 - loss: 2.3914\n",
            "Epoch 33: val_accuracy did not improve from 0.10660\n",
            "\u001b[1m28/28\u001b[0m \u001b[32m━━━━━━━━━━━━━━━━━━━━\u001b[0m\u001b[37m\u001b[0m \u001b[1m1s\u001b[0m 23ms/step - accuracy: 0.1221 - loss: 2.3915 - val_accuracy: 0.1066 - val_loss: 2.3932\n",
            "Epoch 34/50\n",
            "\u001b[1m28/28\u001b[0m \u001b[32m━━━━━━━━━━━━━━━━━━━━\u001b[0m\u001b[37m\u001b[0m \u001b[1m0s\u001b[0m 19ms/step - accuracy: 0.1199 - loss: 2.3941\n",
            "Epoch 34: val_accuracy did not improve from 0.10660\n",
            "\u001b[1m28/28\u001b[0m \u001b[32m━━━━━━━━━━━━━━━━━━━━\u001b[0m\u001b[37m\u001b[0m \u001b[1m1s\u001b[0m 21ms/step - accuracy: 0.1196 - loss: 2.3941 - val_accuracy: 0.1066 - val_loss: 2.3936\n",
            "Epoch 35/50\n",
            "\u001b[1m28/28\u001b[0m \u001b[32m━━━━━━━━━━━━━━━━━━━━\u001b[0m\u001b[37m\u001b[0m \u001b[1m0s\u001b[0m 19ms/step - accuracy: 0.1172 - loss: 2.3923\n",
            "Epoch 35: val_accuracy did not improve from 0.10660\n",
            "\u001b[1m28/28\u001b[0m \u001b[32m━━━━━━━━━━━━━━━━━━━━\u001b[0m\u001b[37m\u001b[0m \u001b[1m1s\u001b[0m 21ms/step - accuracy: 0.1172 - loss: 2.3923 - val_accuracy: 0.1066 - val_loss: 2.3922\n",
            "Epoch 36/50\n",
            "\u001b[1m28/28\u001b[0m \u001b[32m━━━━━━━━━━━━━━━━━━━━\u001b[0m\u001b[37m\u001b[0m \u001b[1m0s\u001b[0m 21ms/step - accuracy: 0.1198 - loss: 2.3934\n",
            "Epoch 36: val_accuracy did not improve from 0.10660\n",
            "\u001b[1m28/28\u001b[0m \u001b[32m━━━━━━━━━━━━━━━━━━━━\u001b[0m\u001b[37m\u001b[0m \u001b[1m1s\u001b[0m 25ms/step - accuracy: 0.1198 - loss: 2.3934 - val_accuracy: 0.1015 - val_loss: 2.3903\n",
            "Epoch 37/50\n",
            "\u001b[1m28/28\u001b[0m \u001b[32m━━━━━━━━━━━━━━━━━━━━\u001b[0m\u001b[37m\u001b[0m \u001b[1m0s\u001b[0m 25ms/step - accuracy: 0.1204 - loss: 2.3959\n",
            "Epoch 37: val_accuracy did not improve from 0.10660\n",
            "\u001b[1m28/28\u001b[0m \u001b[32m━━━━━━━━━━━━━━━━━━━━\u001b[0m\u001b[37m\u001b[0m \u001b[1m1s\u001b[0m 29ms/step - accuracy: 0.1203 - loss: 2.3959 - val_accuracy: 0.1015 - val_loss: 2.3915\n",
            "Epoch 38/50\n",
            "\u001b[1m27/28\u001b[0m \u001b[32m━━━━━━━━━━━━━━━━━━━\u001b[0m\u001b[37m━\u001b[0m \u001b[1m0s\u001b[0m 27ms/step - accuracy: 0.1085 - loss: 2.3896\n",
            "Epoch 38: val_accuracy did not improve from 0.10660\n",
            "\u001b[1m28/28\u001b[0m \u001b[32m━━━━━━━━━━━━━━━━━━━━\u001b[0m\u001b[37m\u001b[0m \u001b[1m1s\u001b[0m 31ms/step - accuracy: 0.1084 - loss: 2.3898 - val_accuracy: 0.1066 - val_loss: 2.3908\n",
            "Epoch 39/50\n",
            "\u001b[1m27/28\u001b[0m \u001b[32m━━━━━━━━━━━━━━━━━━━\u001b[0m\u001b[37m━\u001b[0m \u001b[1m0s\u001b[0m 25ms/step - accuracy: 0.1147 - loss: 2.3934\n",
            "Epoch 39: val_accuracy did not improve from 0.10660\n",
            "\u001b[1m28/28\u001b[0m \u001b[32m━━━━━━━━━━━━━━━━━━━━\u001b[0m\u001b[37m\u001b[0m \u001b[1m1s\u001b[0m 26ms/step - accuracy: 0.1149 - loss: 2.3933 - val_accuracy: 0.1066 - val_loss: 2.3912\n",
            "Epoch 40/50\n",
            "\u001b[1m28/28\u001b[0m \u001b[32m━━━━━━━━━━━━━━━━━━━━\u001b[0m\u001b[37m\u001b[0m \u001b[1m0s\u001b[0m 19ms/step - accuracy: 0.1197 - loss: 2.3883\n",
            "Epoch 40: val_accuracy did not improve from 0.10660\n",
            "\u001b[1m28/28\u001b[0m \u001b[32m━━━━━━━━━━━━━━━━━━━━\u001b[0m\u001b[37m\u001b[0m \u001b[1m1s\u001b[0m 21ms/step - accuracy: 0.1195 - loss: 2.3885 - val_accuracy: 0.1066 - val_loss: 2.3916\n",
            "Epoch 41/50\n",
            "\u001b[1m28/28\u001b[0m \u001b[32m━━━━━━━━━━━━━━━━━━━━\u001b[0m\u001b[37m\u001b[0m \u001b[1m0s\u001b[0m 19ms/step - accuracy: 0.1166 - loss: 2.3928\n",
            "Epoch 41: val_accuracy did not improve from 0.10660\n",
            "\u001b[1m28/28\u001b[0m \u001b[32m━━━━━━━━━━━━━━━━━━━━\u001b[0m\u001b[37m\u001b[0m \u001b[1m1s\u001b[0m 22ms/step - accuracy: 0.1164 - loss: 2.3929 - val_accuracy: 0.1066 - val_loss: 2.3918\n",
            "Epoch 42/50\n",
            "\u001b[1m28/28\u001b[0m \u001b[32m━━━━━━━━━━━━━━━━━━━━\u001b[0m\u001b[37m\u001b[0m \u001b[1m0s\u001b[0m 19ms/step - accuracy: 0.1075 - loss: 2.3928\n",
            "Epoch 42: val_accuracy did not improve from 0.10660\n",
            "\u001b[1m28/28\u001b[0m \u001b[32m━━━━━━━━━━━━━━━━━━━━\u001b[0m\u001b[37m\u001b[0m \u001b[1m1s\u001b[0m 20ms/step - accuracy: 0.1076 - loss: 2.3928 - val_accuracy: 0.1066 - val_loss: 2.3912\n",
            "Epoch 43/50\n",
            "\u001b[1m28/28\u001b[0m \u001b[32m━━━━━━━━━━━━━━━━━━━━\u001b[0m\u001b[37m\u001b[0m \u001b[1m0s\u001b[0m 19ms/step - accuracy: 0.1126 - loss: 2.3901\n",
            "Epoch 43: val_accuracy did not improve from 0.10660\n",
            "\u001b[1m28/28\u001b[0m \u001b[32m━━━━━━━━━━━━━━━━━━━━\u001b[0m\u001b[37m\u001b[0m \u001b[1m1s\u001b[0m 22ms/step - accuracy: 0.1124 - loss: 2.3902 - val_accuracy: 0.1015 - val_loss: 2.3932\n",
            "Epoch 44/50\n",
            "\u001b[1m28/28\u001b[0m \u001b[32m━━━━━━━━━━━━━━━━━━━━\u001b[0m\u001b[37m\u001b[0m \u001b[1m0s\u001b[0m 19ms/step - accuracy: 0.1128 - loss: 2.3857\n",
            "Epoch 44: val_accuracy did not improve from 0.10660\n",
            "\u001b[1m28/28\u001b[0m \u001b[32m━━━━━━━━━━━━━━━━━━━━\u001b[0m\u001b[37m\u001b[0m \u001b[1m1s\u001b[0m 20ms/step - accuracy: 0.1127 - loss: 2.3859 - val_accuracy: 0.1066 - val_loss: 2.3927\n",
            "Epoch 45/50\n",
            "\u001b[1m28/28\u001b[0m \u001b[32m━━━━━━━━━━━━━━━━━━━━\u001b[0m\u001b[37m\u001b[0m \u001b[1m0s\u001b[0m 19ms/step - accuracy: 0.1148 - loss: 2.3914\n",
            "Epoch 45: val_accuracy did not improve from 0.10660\n",
            "\u001b[1m28/28\u001b[0m \u001b[32m━━━━━━━━━━━━━━━━━━━━\u001b[0m\u001b[37m\u001b[0m \u001b[1m1s\u001b[0m 21ms/step - accuracy: 0.1150 - loss: 2.3914 - val_accuracy: 0.1066 - val_loss: 2.3944\n",
            "Epoch 46/50\n",
            "\u001b[1m28/28\u001b[0m \u001b[32m━━━━━━━━━━━━━━━━━━━━\u001b[0m\u001b[37m\u001b[0m \u001b[1m0s\u001b[0m 18ms/step - accuracy: 0.1191 - loss: 2.3876\n",
            "Epoch 46: val_accuracy did not improve from 0.10660\n",
            "\u001b[1m28/28\u001b[0m \u001b[32m━━━━━━━━━━━━━━━━━━━━\u001b[0m\u001b[37m\u001b[0m \u001b[1m1s\u001b[0m 20ms/step - accuracy: 0.1191 - loss: 2.3878 - val_accuracy: 0.1066 - val_loss: 2.3938\n",
            "Epoch 47/50\n",
            "\u001b[1m25/28\u001b[0m \u001b[32m━━━━━━━━━━━━━━━━━\u001b[0m\u001b[37m━━━\u001b[0m \u001b[1m0s\u001b[0m 18ms/step - accuracy: 0.1086 - loss: 2.3922\n",
            "Epoch 47: val_accuracy did not improve from 0.10660\n",
            "\u001b[1m28/28\u001b[0m \u001b[32m━━━━━━━━━━━━━━━━━━━━\u001b[0m\u001b[37m\u001b[0m \u001b[1m1s\u001b[0m 20ms/step - accuracy: 0.1092 - loss: 2.3920 - val_accuracy: 0.1066 - val_loss: 2.3937\n",
            "Epoch 48/50\n",
            "\u001b[1m28/28\u001b[0m \u001b[32m━━━━━━━━━━━━━━━━━━━━\u001b[0m\u001b[37m\u001b[0m \u001b[1m0s\u001b[0m 19ms/step - accuracy: 0.1220 - loss: 2.3917\n",
            "Epoch 48: val_accuracy did not improve from 0.10660\n",
            "\u001b[1m28/28\u001b[0m \u001b[32m━━━━━━━━━━━━━━━━━━━━\u001b[0m\u001b[37m\u001b[0m \u001b[1m1s\u001b[0m 23ms/step - accuracy: 0.1219 - loss: 2.3918 - val_accuracy: 0.1066 - val_loss: 2.3936\n",
            "Epoch 49/50\n",
            "\u001b[1m28/28\u001b[0m \u001b[32m━━━━━━━━━━━━━━━━━━━━\u001b[0m\u001b[37m\u001b[0m \u001b[1m0s\u001b[0m 19ms/step - accuracy: 0.1223 - loss: 2.3900\n",
            "Epoch 49: val_accuracy did not improve from 0.10660\n",
            "\u001b[1m28/28\u001b[0m \u001b[32m━━━━━━━━━━━━━━━━━━━━\u001b[0m\u001b[37m\u001b[0m \u001b[1m1s\u001b[0m 21ms/step - accuracy: 0.1221 - loss: 2.3901 - val_accuracy: 0.1066 - val_loss: 2.3938\n",
            "Epoch 50/50\n",
            "\u001b[1m28/28\u001b[0m \u001b[32m━━━━━━━━━━━━━━━━━━━━\u001b[0m\u001b[37m\u001b[0m \u001b[1m0s\u001b[0m 19ms/step - accuracy: 0.1155 - loss: 2.3855\n",
            "Epoch 50: val_accuracy did not improve from 0.10660\n",
            "\u001b[1m28/28\u001b[0m \u001b[32m━━━━━━━━━━━━━━━━━━━━\u001b[0m\u001b[37m\u001b[0m \u001b[1m1s\u001b[0m 21ms/step - accuracy: 0.1154 - loss: 2.3856 - val_accuracy: 0.1066 - val_loss: 2.3938\n"
          ]
        }
      ]
    },
    {
      "cell_type": "code",
      "source": [
        "# Evaluate the EfficientNet model\n",
        "efficientnet_model = tf.keras.models.load_model('/content/drive/MyDrive/auddsavedfiles/models/efficientnet_model_audio.keras')\n",
        "print(\"Test Accuracy is \", efficientnet_model.evaluate(x_test, test_y)[1])"
      ],
      "metadata": {
        "id": "5T4_CNnYYnHf",
        "outputId": "50a37157-38f5-4f46-f393-8f72ca946308",
        "colab": {
          "base_uri": "https://localhost:8080/"
        }
      },
      "execution_count": 18,
      "outputs": [
        {
          "output_type": "stream",
          "name": "stdout",
          "text": [
            "\u001b[1m16/16\u001b[0m \u001b[32m━━━━━━━━━━━━━━━━━━━━\u001b[0m\u001b[37m\u001b[0m \u001b[1m12s\u001b[0m 295ms/step - accuracy: 0.0874 - loss: 2.4005\n",
            "Test Accuracy is  0.10794297605752945\n"
          ]
        }
      ]
    }
  ]
}